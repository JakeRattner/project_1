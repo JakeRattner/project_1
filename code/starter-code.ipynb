{
 "cells": [
  {
   "cell_type": "markdown",
   "metadata": {},
   "source": [
    "# Project 1"
   ]
  },
  {
   "cell_type": "markdown",
   "metadata": {},
   "source": [
    "## Step 1: Load the data and perform basic operations."
   ]
  },
  {
   "cell_type": "markdown",
   "metadata": {},
   "source": [
    "##### 1. Load the data in using pandas."
   ]
  },
  {
   "cell_type": "code",
   "execution_count": 239,
   "metadata": {
    "collapsed": true
   },
   "outputs": [],
   "source": [
    "import pandas as pd\n",
    "import numpy as np\n",
    "from matplotlib import pyplot as plt\n",
    "from pprint import pprint\n",
    "%matplotlib inline\n",
    "import scipy.stats as stats\n",
    "import scipy.stats as stats\n",
    "import seaborn as sns\n",
    "import imp\n",
    "sns.set_style('whitegrid')\n",
    "%config InlineBackend.figure_format = 'retina'"
   ]
  },
  {
   "cell_type": "code",
   "execution_count": 2,
   "metadata": {
    "collapsed": true
   },
   "outputs": [],
   "source": [
    "act = pd.read_csv('../data/act.csv', sep=',')\n",
    "sat = pd.read_csv('../data/sat.csv', sep=',')"
   ]
  },
  {
   "cell_type": "markdown",
   "metadata": {},
   "source": [
    "##### 2. Print the first ten rows of each dataframe."
   ]
  },
  {
   "cell_type": "code",
   "execution_count": 275,
   "metadata": {
    "scrolled": true
   },
   "outputs": [
    {
     "data": {
      "text/html": [
       "<div>\n",
       "<style>\n",
       "    .dataframe thead tr:only-child th {\n",
       "        text-align: right;\n",
       "    }\n",
       "\n",
       "    .dataframe thead th {\n",
       "        text-align: left;\n",
       "    }\n",
       "\n",
       "    .dataframe tbody tr th {\n",
       "        vertical-align: top;\n",
       "    }\n",
       "</style>\n",
       "<table border=\"1\" class=\"dataframe\">\n",
       "  <thead>\n",
       "    <tr style=\"text-align: right;\">\n",
       "      <th></th>\n",
       "      <th>Unnamed: 0</th>\n",
       "      <th>State</th>\n",
       "      <th>Participation</th>\n",
       "      <th>English</th>\n",
       "      <th>Math</th>\n",
       "      <th>Reading</th>\n",
       "      <th>Science</th>\n",
       "      <th>Composite</th>\n",
       "    </tr>\n",
       "  </thead>\n",
       "  <tbody>\n",
       "    <tr>\n",
       "      <th>0</th>\n",
       "      <td>0</td>\n",
       "      <td>National</td>\n",
       "      <td>0.60</td>\n",
       "      <td>20.3</td>\n",
       "      <td>20.7</td>\n",
       "      <td>21.4</td>\n",
       "      <td>21.0</td>\n",
       "      <td>21.0</td>\n",
       "    </tr>\n",
       "    <tr>\n",
       "      <th>1</th>\n",
       "      <td>1</td>\n",
       "      <td>Alabama</td>\n",
       "      <td>1.00</td>\n",
       "      <td>18.9</td>\n",
       "      <td>18.4</td>\n",
       "      <td>19.7</td>\n",
       "      <td>19.4</td>\n",
       "      <td>19.2</td>\n",
       "    </tr>\n",
       "    <tr>\n",
       "      <th>2</th>\n",
       "      <td>2</td>\n",
       "      <td>Alaska</td>\n",
       "      <td>0.65</td>\n",
       "      <td>18.7</td>\n",
       "      <td>19.8</td>\n",
       "      <td>20.4</td>\n",
       "      <td>19.9</td>\n",
       "      <td>19.8</td>\n",
       "    </tr>\n",
       "    <tr>\n",
       "      <th>3</th>\n",
       "      <td>3</td>\n",
       "      <td>Arizona</td>\n",
       "      <td>0.62</td>\n",
       "      <td>18.6</td>\n",
       "      <td>19.8</td>\n",
       "      <td>20.1</td>\n",
       "      <td>19.8</td>\n",
       "      <td>19.7</td>\n",
       "    </tr>\n",
       "    <tr>\n",
       "      <th>4</th>\n",
       "      <td>4</td>\n",
       "      <td>Arkansas</td>\n",
       "      <td>1.00</td>\n",
       "      <td>18.9</td>\n",
       "      <td>19.0</td>\n",
       "      <td>19.7</td>\n",
       "      <td>19.5</td>\n",
       "      <td>19.4</td>\n",
       "    </tr>\n",
       "    <tr>\n",
       "      <th>5</th>\n",
       "      <td>5</td>\n",
       "      <td>California</td>\n",
       "      <td>0.31</td>\n",
       "      <td>22.5</td>\n",
       "      <td>22.7</td>\n",
       "      <td>23.1</td>\n",
       "      <td>22.2</td>\n",
       "      <td>22.8</td>\n",
       "    </tr>\n",
       "    <tr>\n",
       "      <th>6</th>\n",
       "      <td>6</td>\n",
       "      <td>Colorado</td>\n",
       "      <td>1.00</td>\n",
       "      <td>20.1</td>\n",
       "      <td>20.3</td>\n",
       "      <td>21.2</td>\n",
       "      <td>20.9</td>\n",
       "      <td>20.8</td>\n",
       "    </tr>\n",
       "    <tr>\n",
       "      <th>7</th>\n",
       "      <td>7</td>\n",
       "      <td>Connecticut</td>\n",
       "      <td>0.31</td>\n",
       "      <td>25.5</td>\n",
       "      <td>24.6</td>\n",
       "      <td>25.6</td>\n",
       "      <td>24.6</td>\n",
       "      <td>25.2</td>\n",
       "    </tr>\n",
       "    <tr>\n",
       "      <th>8</th>\n",
       "      <td>8</td>\n",
       "      <td>Delaware</td>\n",
       "      <td>0.18</td>\n",
       "      <td>24.1</td>\n",
       "      <td>23.4</td>\n",
       "      <td>24.8</td>\n",
       "      <td>23.6</td>\n",
       "      <td>24.1</td>\n",
       "    </tr>\n",
       "    <tr>\n",
       "      <th>9</th>\n",
       "      <td>9</td>\n",
       "      <td>District of Columbia</td>\n",
       "      <td>0.32</td>\n",
       "      <td>24.4</td>\n",
       "      <td>23.5</td>\n",
       "      <td>24.9</td>\n",
       "      <td>23.5</td>\n",
       "      <td>24.2</td>\n",
       "    </tr>\n",
       "  </tbody>\n",
       "</table>\n",
       "</div>"
      ],
      "text/plain": [
       "   Unnamed: 0                 State  Participation  English  Math  Reading  \\\n",
       "0           0              National           0.60     20.3  20.7     21.4   \n",
       "1           1               Alabama           1.00     18.9  18.4     19.7   \n",
       "2           2                Alaska           0.65     18.7  19.8     20.4   \n",
       "3           3               Arizona           0.62     18.6  19.8     20.1   \n",
       "4           4              Arkansas           1.00     18.9  19.0     19.7   \n",
       "5           5            California           0.31     22.5  22.7     23.1   \n",
       "6           6              Colorado           1.00     20.1  20.3     21.2   \n",
       "7           7           Connecticut           0.31     25.5  24.6     25.6   \n",
       "8           8              Delaware           0.18     24.1  23.4     24.8   \n",
       "9           9  District of Columbia           0.32     24.4  23.5     24.9   \n",
       "\n",
       "   Science  Composite  \n",
       "0     21.0       21.0  \n",
       "1     19.4       19.2  \n",
       "2     19.9       19.8  \n",
       "3     19.8       19.7  \n",
       "4     19.5       19.4  \n",
       "5     22.2       22.8  \n",
       "6     20.9       20.8  \n",
       "7     24.6       25.2  \n",
       "8     23.6       24.1  \n",
       "9     23.5       24.2  "
      ]
     },
     "execution_count": 275,
     "metadata": {},
     "output_type": "execute_result"
    }
   ],
   "source": [
    "act.head(10)"
   ]
  },
  {
   "cell_type": "code",
   "execution_count": 4,
   "metadata": {},
   "outputs": [
    {
     "data": {
      "text/html": [
       "<div>\n",
       "<style>\n",
       "    .dataframe thead tr:only-child th {\n",
       "        text-align: right;\n",
       "    }\n",
       "\n",
       "    .dataframe thead th {\n",
       "        text-align: left;\n",
       "    }\n",
       "\n",
       "    .dataframe tbody tr th {\n",
       "        vertical-align: top;\n",
       "    }\n",
       "</style>\n",
       "<table border=\"1\" class=\"dataframe\">\n",
       "  <thead>\n",
       "    <tr style=\"text-align: right;\">\n",
       "      <th></th>\n",
       "      <th>Unnamed: 0</th>\n",
       "      <th>State</th>\n",
       "      <th>Participation</th>\n",
       "      <th>Evidence-Based Reading and Writing</th>\n",
       "      <th>Math</th>\n",
       "      <th>Total</th>\n",
       "    </tr>\n",
       "  </thead>\n",
       "  <tbody>\n",
       "    <tr>\n",
       "      <th>0</th>\n",
       "      <td>0</td>\n",
       "      <td>Alabama</td>\n",
       "      <td>5%</td>\n",
       "      <td>593</td>\n",
       "      <td>572</td>\n",
       "      <td>1165</td>\n",
       "    </tr>\n",
       "    <tr>\n",
       "      <th>1</th>\n",
       "      <td>1</td>\n",
       "      <td>Alaska</td>\n",
       "      <td>38%</td>\n",
       "      <td>547</td>\n",
       "      <td>533</td>\n",
       "      <td>1080</td>\n",
       "    </tr>\n",
       "    <tr>\n",
       "      <th>2</th>\n",
       "      <td>2</td>\n",
       "      <td>Arizona</td>\n",
       "      <td>30%</td>\n",
       "      <td>563</td>\n",
       "      <td>553</td>\n",
       "      <td>1116</td>\n",
       "    </tr>\n",
       "    <tr>\n",
       "      <th>3</th>\n",
       "      <td>3</td>\n",
       "      <td>Arkansas</td>\n",
       "      <td>3%</td>\n",
       "      <td>614</td>\n",
       "      <td>594</td>\n",
       "      <td>1208</td>\n",
       "    </tr>\n",
       "    <tr>\n",
       "      <th>4</th>\n",
       "      <td>4</td>\n",
       "      <td>California</td>\n",
       "      <td>53%</td>\n",
       "      <td>531</td>\n",
       "      <td>524</td>\n",
       "      <td>1055</td>\n",
       "    </tr>\n",
       "    <tr>\n",
       "      <th>5</th>\n",
       "      <td>5</td>\n",
       "      <td>Colorado</td>\n",
       "      <td>11%</td>\n",
       "      <td>606</td>\n",
       "      <td>595</td>\n",
       "      <td>1201</td>\n",
       "    </tr>\n",
       "    <tr>\n",
       "      <th>6</th>\n",
       "      <td>6</td>\n",
       "      <td>Connecticut</td>\n",
       "      <td>100%</td>\n",
       "      <td>530</td>\n",
       "      <td>512</td>\n",
       "      <td>1041</td>\n",
       "    </tr>\n",
       "    <tr>\n",
       "      <th>7</th>\n",
       "      <td>7</td>\n",
       "      <td>Delaware</td>\n",
       "      <td>100%</td>\n",
       "      <td>503</td>\n",
       "      <td>492</td>\n",
       "      <td>996</td>\n",
       "    </tr>\n",
       "    <tr>\n",
       "      <th>8</th>\n",
       "      <td>8</td>\n",
       "      <td>District of Columbia</td>\n",
       "      <td>100%</td>\n",
       "      <td>482</td>\n",
       "      <td>468</td>\n",
       "      <td>950</td>\n",
       "    </tr>\n",
       "    <tr>\n",
       "      <th>9</th>\n",
       "      <td>9</td>\n",
       "      <td>Florida</td>\n",
       "      <td>83%</td>\n",
       "      <td>520</td>\n",
       "      <td>497</td>\n",
       "      <td>1017</td>\n",
       "    </tr>\n",
       "  </tbody>\n",
       "</table>\n",
       "</div>"
      ],
      "text/plain": [
       "   Unnamed: 0                 State Participation  \\\n",
       "0           0               Alabama            5%   \n",
       "1           1                Alaska           38%   \n",
       "2           2               Arizona           30%   \n",
       "3           3              Arkansas            3%   \n",
       "4           4            California           53%   \n",
       "5           5              Colorado           11%   \n",
       "6           6           Connecticut          100%   \n",
       "7           7              Delaware          100%   \n",
       "8           8  District of Columbia          100%   \n",
       "9           9               Florida           83%   \n",
       "\n",
       "   Evidence-Based Reading and Writing  Math  Total  \n",
       "0                                 593   572   1165  \n",
       "1                                 547   533   1080  \n",
       "2                                 563   553   1116  \n",
       "3                                 614   594   1208  \n",
       "4                                 531   524   1055  \n",
       "5                                 606   595   1201  \n",
       "6                                 530   512   1041  \n",
       "7                                 503   492    996  \n",
       "8                                 482   468    950  \n",
       "9                                 520   497   1017  "
      ]
     },
     "execution_count": 4,
     "metadata": {},
     "output_type": "execute_result"
    }
   ],
   "source": [
    "sat.head(10)"
   ]
  },
  {
   "cell_type": "markdown",
   "metadata": {},
   "source": [
    "##### 3. Describe in words what each variable (column) is."
   ]
  },
  {
   "cell_type": "markdown",
   "metadata": {
    "collapsed": true
   },
   "source": [
    "ACT:\n",
    "State: Geographic location where test is taken\t\n",
    "Participation: % participation of student body\t\n",
    "English: Subject area score\n",
    "Math: Subject area score\n",
    "Reading: Subject area score\n",
    "Science: Subject area score\n",
    "Composite: Average of above ACT subject area score\n",
    "SAT:\n",
    "State: Geographic location where test is taken\n",
    "Participation: % participation of student body\n",
    "Evidence-Based Reading and Writing: Subject area score\n",
    "Math: Subject area score\n",
    "Total: Combined Subject Area SAT Scores"
   ]
  },
  {
   "cell_type": "markdown",
   "metadata": {},
   "source": [
    "##### 4. Does the data look complete? Are there any obvious issues with the observations?"
   ]
  },
  {
   "cell_type": "markdown",
   "metadata": {
    "collapsed": true
   },
   "source": [
    "Appears to be complete values but perhaps several incorrect values for Maryland"
   ]
  },
  {
   "cell_type": "markdown",
   "metadata": {},
   "source": [
    "##### 5. Print the types of each column."
   ]
  },
  {
   "cell_type": "code",
   "execution_count": 5,
   "metadata": {},
   "outputs": [
    {
     "data": {
      "text/plain": [
       "Unnamed: 0                             int64\n",
       "State                                 object\n",
       "Participation                         object\n",
       "Evidence-Based Reading and Writing     int64\n",
       "Math                                   int64\n",
       "Total                                  int64\n",
       "dtype: object"
      ]
     },
     "execution_count": 5,
     "metadata": {},
     "output_type": "execute_result"
    }
   ],
   "source": [
    "sat.dtypes"
   ]
  },
  {
   "cell_type": "code",
   "execution_count": 6,
   "metadata": {},
   "outputs": [
    {
     "data": {
      "text/plain": [
       "Unnamed: 0         int64\n",
       "State             object\n",
       "Participation     object\n",
       "English          float64\n",
       "Math             float64\n",
       "Reading          float64\n",
       "Science          float64\n",
       "Composite        float64\n",
       "dtype: object"
      ]
     },
     "execution_count": 6,
     "metadata": {},
     "output_type": "execute_result"
    }
   ],
   "source": [
    "act.dtypes"
   ]
  },
  {
   "cell_type": "markdown",
   "metadata": {},
   "source": [
    "##### 6. Do any types need to be reassigned? If so, go ahead and do it."
   ]
  },
  {
   "cell_type": "code",
   "execution_count": null,
   "metadata": {
    "collapsed": true
   },
   "outputs": [],
   "source": [
    "# Yes, participation needs to be numeric(float)"
   ]
  },
  {
   "cell_type": "code",
   "execution_count": 7,
   "metadata": {
    "collapsed": true
   },
   "outputs": [],
   "source": [
    "act['Participation'] = act['Participation'].str.rstrip('%').astype(float) /100"
   ]
  },
  {
   "cell_type": "code",
   "execution_count": 8,
   "metadata": {
    "collapsed": true
   },
   "outputs": [],
   "source": [
    "sat['Participation'] = sat['Participation'].str.rstrip('%').astype(float) /100"
   ]
  },
  {
   "cell_type": "markdown",
   "metadata": {},
   "source": [
    "##### 7. Create a dictionary for each column mapping the State to its respective value for that column. (For example, you should have three SAT dictionaries.)"
   ]
  },
  {
   "cell_type": "code",
   "execution_count": 299,
   "metadata": {
    "collapsed": true
   },
   "outputs": [],
   "source": [
    "sat_par = sat.set_index('State').to_dict()['Participation']"
   ]
  },
  {
   "cell_type": "code",
   "execution_count": 300,
   "metadata": {
    "collapsed": true
   },
   "outputs": [],
   "source": [
    "sat_evidence = sat.set_index('State').to_dict()['Evidence-Based Reading and Writing']"
   ]
  },
  {
   "cell_type": "code",
   "execution_count": 301,
   "metadata": {
    "collapsed": true
   },
   "outputs": [],
   "source": [
    "sat_math = sat.set_index('State').to_dict()['Math']"
   ]
  },
  {
   "cell_type": "code",
   "execution_count": 302,
   "metadata": {
    "collapsed": true
   },
   "outputs": [],
   "source": [
    "act_part = act.set_index('State').to_dict()['Participation']"
   ]
  },
  {
   "cell_type": "code",
   "execution_count": 303,
   "metadata": {
    "collapsed": true
   },
   "outputs": [],
   "source": [
    "act_english = act.set_index('State').to_dict()['English']"
   ]
  },
  {
   "cell_type": "code",
   "execution_count": 304,
   "metadata": {
    "collapsed": true
   },
   "outputs": [],
   "source": [
    "act_math = act.set_index('State').to_dict()['Math']"
   ]
  },
  {
   "cell_type": "code",
   "execution_count": 305,
   "metadata": {
    "collapsed": true
   },
   "outputs": [],
   "source": [
    "act_reading = act.set_index('State').to_dict()['Reading']"
   ]
  },
  {
   "cell_type": "code",
   "execution_count": 306,
   "metadata": {
    "collapsed": true
   },
   "outputs": [],
   "source": [
    "act_science = act.set_index('State').to_dict()['Science']"
   ]
  },
  {
   "cell_type": "code",
   "execution_count": 307,
   "metadata": {
    "collapsed": true
   },
   "outputs": [],
   "source": [
    "act_composite = act.set_index('State').to_dict()['Composite']"
   ]
  },
  {
   "cell_type": "markdown",
   "metadata": {},
   "source": [
    "##### 8. Create one dictionary where each key is the column name, and each value is an iterable (a list or a Pandas Series) of all the values in that column."
   ]
  },
  {
   "cell_type": "code",
   "execution_count": 276,
   "metadata": {
    "collapsed": true
   },
   "outputs": [],
   "source": [
    "sat_dic = {'State':[sat['State']],'Participation':[sat['Participation']],\n",
    "           'Evidence-Based Reading and Writing':[sat['Evidence-Based Reading and Writing']],\n",
    "           'Math':[sat['Math']],'Total':[sat['Total']]}\n",
    "\n",
    "act_dic = {'State':[act['State']],'Participation':[act['Participation']],\n",
    "           'English':[act['English']],'Math':[act['Math']],'Reading':[act['Reading']],\n",
    "           'Science':[act['Science']],'Composite':[act['Composite']]}"
   ]
  },
  {
   "cell_type": "markdown",
   "metadata": {},
   "source": [
    "##### 9. Merge the dataframes on the state column."
   ]
  },
  {
   "cell_type": "code",
   "execution_count": 77,
   "metadata": {},
   "outputs": [
    {
     "data": {
      "text/html": [
       "<div>\n",
       "<style>\n",
       "    .dataframe thead tr:only-child th {\n",
       "        text-align: right;\n",
       "    }\n",
       "\n",
       "    .dataframe thead th {\n",
       "        text-align: left;\n",
       "    }\n",
       "\n",
       "    .dataframe tbody tr th {\n",
       "        vertical-align: top;\n",
       "    }\n",
       "</style>\n",
       "<table border=\"1\" class=\"dataframe\">\n",
       "  <thead>\n",
       "    <tr style=\"text-align: right;\">\n",
       "      <th></th>\n",
       "      <th>Unnamed: 0_x</th>\n",
       "      <th>State</th>\n",
       "      <th>Participation_x</th>\n",
       "      <th>English</th>\n",
       "      <th>Math_x</th>\n",
       "      <th>Reading</th>\n",
       "      <th>Science</th>\n",
       "      <th>Composite</th>\n",
       "      <th>Unnamed: 0_y</th>\n",
       "      <th>Participation_y</th>\n",
       "      <th>Evidence-Based Reading and Writing</th>\n",
       "      <th>Math_y</th>\n",
       "      <th>Total</th>\n",
       "    </tr>\n",
       "  </thead>\n",
       "  <tbody>\n",
       "    <tr>\n",
       "      <th>0</th>\n",
       "      <td>1</td>\n",
       "      <td>Alabama</td>\n",
       "      <td>1.00</td>\n",
       "      <td>18.9</td>\n",
       "      <td>18.4</td>\n",
       "      <td>19.7</td>\n",
       "      <td>19.4</td>\n",
       "      <td>19.2</td>\n",
       "      <td>0</td>\n",
       "      <td>0.05</td>\n",
       "      <td>593</td>\n",
       "      <td>572</td>\n",
       "      <td>1165</td>\n",
       "    </tr>\n",
       "    <tr>\n",
       "      <th>1</th>\n",
       "      <td>2</td>\n",
       "      <td>Alaska</td>\n",
       "      <td>0.65</td>\n",
       "      <td>18.7</td>\n",
       "      <td>19.8</td>\n",
       "      <td>20.4</td>\n",
       "      <td>19.9</td>\n",
       "      <td>19.8</td>\n",
       "      <td>1</td>\n",
       "      <td>0.38</td>\n",
       "      <td>547</td>\n",
       "      <td>533</td>\n",
       "      <td>1080</td>\n",
       "    </tr>\n",
       "    <tr>\n",
       "      <th>2</th>\n",
       "      <td>3</td>\n",
       "      <td>Arizona</td>\n",
       "      <td>0.62</td>\n",
       "      <td>18.6</td>\n",
       "      <td>19.8</td>\n",
       "      <td>20.1</td>\n",
       "      <td>19.8</td>\n",
       "      <td>19.7</td>\n",
       "      <td>2</td>\n",
       "      <td>0.30</td>\n",
       "      <td>563</td>\n",
       "      <td>553</td>\n",
       "      <td>1116</td>\n",
       "    </tr>\n",
       "    <tr>\n",
       "      <th>3</th>\n",
       "      <td>4</td>\n",
       "      <td>Arkansas</td>\n",
       "      <td>1.00</td>\n",
       "      <td>18.9</td>\n",
       "      <td>19.0</td>\n",
       "      <td>19.7</td>\n",
       "      <td>19.5</td>\n",
       "      <td>19.4</td>\n",
       "      <td>3</td>\n",
       "      <td>0.03</td>\n",
       "      <td>614</td>\n",
       "      <td>594</td>\n",
       "      <td>1208</td>\n",
       "    </tr>\n",
       "    <tr>\n",
       "      <th>4</th>\n",
       "      <td>5</td>\n",
       "      <td>California</td>\n",
       "      <td>0.31</td>\n",
       "      <td>22.5</td>\n",
       "      <td>22.7</td>\n",
       "      <td>23.1</td>\n",
       "      <td>22.2</td>\n",
       "      <td>22.8</td>\n",
       "      <td>4</td>\n",
       "      <td>0.53</td>\n",
       "      <td>531</td>\n",
       "      <td>524</td>\n",
       "      <td>1055</td>\n",
       "    </tr>\n",
       "  </tbody>\n",
       "</table>\n",
       "</div>"
      ],
      "text/plain": [
       "   Unnamed: 0_x       State  Participation_x  English  Math_x  Reading  \\\n",
       "0             1     Alabama             1.00     18.9    18.4     19.7   \n",
       "1             2      Alaska             0.65     18.7    19.8     20.4   \n",
       "2             3     Arizona             0.62     18.6    19.8     20.1   \n",
       "3             4    Arkansas             1.00     18.9    19.0     19.7   \n",
       "4             5  California             0.31     22.5    22.7     23.1   \n",
       "\n",
       "   Science  Composite  Unnamed: 0_y  Participation_y  \\\n",
       "0     19.4       19.2             0             0.05   \n",
       "1     19.9       19.8             1             0.38   \n",
       "2     19.8       19.7             2             0.30   \n",
       "3     19.5       19.4             3             0.03   \n",
       "4     22.2       22.8             4             0.53   \n",
       "\n",
       "   Evidence-Based Reading and Writing  Math_y  Total  \n",
       "0                                 593     572   1165  \n",
       "1                                 547     533   1080  \n",
       "2                                 563     553   1116  \n",
       "3                                 614     594   1208  \n",
       "4                                 531     524   1055  "
      ]
     },
     "execution_count": 77,
     "metadata": {},
     "output_type": "execute_result"
    }
   ],
   "source": [
    "merged = act.merge(sat, how='inner', on='State')\n",
    "merged.head()"
   ]
  },
  {
   "cell_type": "markdown",
   "metadata": {},
   "source": [
    "##### 10. Change the names of the columns so you can distinguish between the SAT columns and the ACT columns."
   ]
  },
  {
   "cell_type": "code",
   "execution_count": 327,
   "metadata": {
    "collapsed": true
   },
   "outputs": [
    {
     "data": {
      "text/html": [
       "<div>\n",
       "<style>\n",
       "    .dataframe thead tr:only-child th {\n",
       "        text-align: right;\n",
       "    }\n",
       "\n",
       "    .dataframe thead th {\n",
       "        text-align: left;\n",
       "    }\n",
       "\n",
       "    .dataframe tbody tr th {\n",
       "        vertical-align: top;\n",
       "    }\n",
       "</style>\n",
       "<table border=\"1\" class=\"dataframe\">\n",
       "  <thead>\n",
       "    <tr style=\"text-align: right;\">\n",
       "      <th></th>\n",
       "      <th>0</th>\n",
       "      <th>State</th>\n",
       "      <th>act_Participation</th>\n",
       "      <th>act_English</th>\n",
       "      <th>act_Math</th>\n",
       "      <th>act_Reading</th>\n",
       "      <th>act_Science</th>\n",
       "      <th>act_Composite</th>\n",
       "      <th>0</th>\n",
       "      <th>sat_Participation</th>\n",
       "      <th>sat_ReadingWriting</th>\n",
       "      <th>sat_Math</th>\n",
       "      <th>sat_Total</th>\n",
       "    </tr>\n",
       "  </thead>\n",
       "  <tbody>\n",
       "    <tr>\n",
       "      <th>0</th>\n",
       "      <td>1</td>\n",
       "      <td>Alabama</td>\n",
       "      <td>1.00</td>\n",
       "      <td>18.9</td>\n",
       "      <td>18.4</td>\n",
       "      <td>19.7</td>\n",
       "      <td>19.4</td>\n",
       "      <td>19.2</td>\n",
       "      <td>0</td>\n",
       "      <td>0.05</td>\n",
       "      <td>593</td>\n",
       "      <td>572</td>\n",
       "      <td>1165</td>\n",
       "    </tr>\n",
       "    <tr>\n",
       "      <th>1</th>\n",
       "      <td>2</td>\n",
       "      <td>Alaska</td>\n",
       "      <td>0.65</td>\n",
       "      <td>18.7</td>\n",
       "      <td>19.8</td>\n",
       "      <td>20.4</td>\n",
       "      <td>19.9</td>\n",
       "      <td>19.8</td>\n",
       "      <td>1</td>\n",
       "      <td>0.38</td>\n",
       "      <td>547</td>\n",
       "      <td>533</td>\n",
       "      <td>1080</td>\n",
       "    </tr>\n",
       "    <tr>\n",
       "      <th>2</th>\n",
       "      <td>3</td>\n",
       "      <td>Arizona</td>\n",
       "      <td>0.62</td>\n",
       "      <td>18.6</td>\n",
       "      <td>19.8</td>\n",
       "      <td>20.1</td>\n",
       "      <td>19.8</td>\n",
       "      <td>19.7</td>\n",
       "      <td>2</td>\n",
       "      <td>0.30</td>\n",
       "      <td>563</td>\n",
       "      <td>553</td>\n",
       "      <td>1116</td>\n",
       "    </tr>\n",
       "    <tr>\n",
       "      <th>3</th>\n",
       "      <td>4</td>\n",
       "      <td>Arkansas</td>\n",
       "      <td>1.00</td>\n",
       "      <td>18.9</td>\n",
       "      <td>19.0</td>\n",
       "      <td>19.7</td>\n",
       "      <td>19.5</td>\n",
       "      <td>19.4</td>\n",
       "      <td>3</td>\n",
       "      <td>0.03</td>\n",
       "      <td>614</td>\n",
       "      <td>594</td>\n",
       "      <td>1208</td>\n",
       "    </tr>\n",
       "    <tr>\n",
       "      <th>4</th>\n",
       "      <td>5</td>\n",
       "      <td>California</td>\n",
       "      <td>0.31</td>\n",
       "      <td>22.5</td>\n",
       "      <td>22.7</td>\n",
       "      <td>23.1</td>\n",
       "      <td>22.2</td>\n",
       "      <td>22.8</td>\n",
       "      <td>4</td>\n",
       "      <td>0.53</td>\n",
       "      <td>531</td>\n",
       "      <td>524</td>\n",
       "      <td>1055</td>\n",
       "    </tr>\n",
       "    <tr>\n",
       "      <th>5</th>\n",
       "      <td>6</td>\n",
       "      <td>Colorado</td>\n",
       "      <td>1.00</td>\n",
       "      <td>20.1</td>\n",
       "      <td>20.3</td>\n",
       "      <td>21.2</td>\n",
       "      <td>20.9</td>\n",
       "      <td>20.8</td>\n",
       "      <td>5</td>\n",
       "      <td>0.11</td>\n",
       "      <td>606</td>\n",
       "      <td>595</td>\n",
       "      <td>1201</td>\n",
       "    </tr>\n",
       "    <tr>\n",
       "      <th>6</th>\n",
       "      <td>7</td>\n",
       "      <td>Connecticut</td>\n",
       "      <td>0.31</td>\n",
       "      <td>25.5</td>\n",
       "      <td>24.6</td>\n",
       "      <td>25.6</td>\n",
       "      <td>24.6</td>\n",
       "      <td>25.2</td>\n",
       "      <td>6</td>\n",
       "      <td>1.00</td>\n",
       "      <td>530</td>\n",
       "      <td>512</td>\n",
       "      <td>1041</td>\n",
       "    </tr>\n",
       "    <tr>\n",
       "      <th>7</th>\n",
       "      <td>8</td>\n",
       "      <td>Delaware</td>\n",
       "      <td>0.18</td>\n",
       "      <td>24.1</td>\n",
       "      <td>23.4</td>\n",
       "      <td>24.8</td>\n",
       "      <td>23.6</td>\n",
       "      <td>24.1</td>\n",
       "      <td>7</td>\n",
       "      <td>1.00</td>\n",
       "      <td>503</td>\n",
       "      <td>492</td>\n",
       "      <td>996</td>\n",
       "    </tr>\n",
       "    <tr>\n",
       "      <th>8</th>\n",
       "      <td>9</td>\n",
       "      <td>District of Columbia</td>\n",
       "      <td>0.32</td>\n",
       "      <td>24.4</td>\n",
       "      <td>23.5</td>\n",
       "      <td>24.9</td>\n",
       "      <td>23.5</td>\n",
       "      <td>24.2</td>\n",
       "      <td>8</td>\n",
       "      <td>1.00</td>\n",
       "      <td>482</td>\n",
       "      <td>468</td>\n",
       "      <td>950</td>\n",
       "    </tr>\n",
       "    <tr>\n",
       "      <th>9</th>\n",
       "      <td>10</td>\n",
       "      <td>Florida</td>\n",
       "      <td>0.73</td>\n",
       "      <td>19.0</td>\n",
       "      <td>19.4</td>\n",
       "      <td>21.0</td>\n",
       "      <td>19.4</td>\n",
       "      <td>19.8</td>\n",
       "      <td>9</td>\n",
       "      <td>0.83</td>\n",
       "      <td>520</td>\n",
       "      <td>497</td>\n",
       "      <td>1017</td>\n",
       "    </tr>\n",
       "    <tr>\n",
       "      <th>10</th>\n",
       "      <td>11</td>\n",
       "      <td>Georgia</td>\n",
       "      <td>0.55</td>\n",
       "      <td>21.0</td>\n",
       "      <td>20.9</td>\n",
       "      <td>22.0</td>\n",
       "      <td>21.3</td>\n",
       "      <td>21.4</td>\n",
       "      <td>10</td>\n",
       "      <td>0.61</td>\n",
       "      <td>535</td>\n",
       "      <td>515</td>\n",
       "      <td>1050</td>\n",
       "    </tr>\n",
       "    <tr>\n",
       "      <th>11</th>\n",
       "      <td>12</td>\n",
       "      <td>Hawaii</td>\n",
       "      <td>0.90</td>\n",
       "      <td>17.8</td>\n",
       "      <td>19.2</td>\n",
       "      <td>19.2</td>\n",
       "      <td>19.3</td>\n",
       "      <td>19.0</td>\n",
       "      <td>11</td>\n",
       "      <td>0.55</td>\n",
       "      <td>544</td>\n",
       "      <td>541</td>\n",
       "      <td>1085</td>\n",
       "    </tr>\n",
       "    <tr>\n",
       "      <th>12</th>\n",
       "      <td>13</td>\n",
       "      <td>Idaho</td>\n",
       "      <td>0.38</td>\n",
       "      <td>21.9</td>\n",
       "      <td>21.8</td>\n",
       "      <td>23.0</td>\n",
       "      <td>22.1</td>\n",
       "      <td>22.3</td>\n",
       "      <td>12</td>\n",
       "      <td>0.93</td>\n",
       "      <td>513</td>\n",
       "      <td>493</td>\n",
       "      <td>1005</td>\n",
       "    </tr>\n",
       "    <tr>\n",
       "      <th>13</th>\n",
       "      <td>14</td>\n",
       "      <td>Illinois</td>\n",
       "      <td>0.93</td>\n",
       "      <td>21.0</td>\n",
       "      <td>21.2</td>\n",
       "      <td>21.6</td>\n",
       "      <td>21.3</td>\n",
       "      <td>21.4</td>\n",
       "      <td>13</td>\n",
       "      <td>0.09</td>\n",
       "      <td>559</td>\n",
       "      <td>556</td>\n",
       "      <td>1115</td>\n",
       "    </tr>\n",
       "    <tr>\n",
       "      <th>14</th>\n",
       "      <td>15</td>\n",
       "      <td>Indiana</td>\n",
       "      <td>0.35</td>\n",
       "      <td>22.0</td>\n",
       "      <td>22.4</td>\n",
       "      <td>23.2</td>\n",
       "      <td>22.3</td>\n",
       "      <td>22.6</td>\n",
       "      <td>14</td>\n",
       "      <td>0.63</td>\n",
       "      <td>542</td>\n",
       "      <td>532</td>\n",
       "      <td>1074</td>\n",
       "    </tr>\n",
       "    <tr>\n",
       "      <th>15</th>\n",
       "      <td>16</td>\n",
       "      <td>Iowa</td>\n",
       "      <td>0.67</td>\n",
       "      <td>21.2</td>\n",
       "      <td>21.3</td>\n",
       "      <td>22.6</td>\n",
       "      <td>22.1</td>\n",
       "      <td>21.9</td>\n",
       "      <td>15</td>\n",
       "      <td>0.02</td>\n",
       "      <td>641</td>\n",
       "      <td>635</td>\n",
       "      <td>1275</td>\n",
       "    </tr>\n",
       "    <tr>\n",
       "      <th>16</th>\n",
       "      <td>17</td>\n",
       "      <td>Kansas</td>\n",
       "      <td>0.73</td>\n",
       "      <td>21.1</td>\n",
       "      <td>21.3</td>\n",
       "      <td>22.3</td>\n",
       "      <td>21.7</td>\n",
       "      <td>21.7</td>\n",
       "      <td>16</td>\n",
       "      <td>0.04</td>\n",
       "      <td>632</td>\n",
       "      <td>628</td>\n",
       "      <td>1260</td>\n",
       "    </tr>\n",
       "    <tr>\n",
       "      <th>17</th>\n",
       "      <td>18</td>\n",
       "      <td>Kentucky</td>\n",
       "      <td>1.00</td>\n",
       "      <td>19.6</td>\n",
       "      <td>19.4</td>\n",
       "      <td>20.5</td>\n",
       "      <td>20.1</td>\n",
       "      <td>20.0</td>\n",
       "      <td>17</td>\n",
       "      <td>0.04</td>\n",
       "      <td>631</td>\n",
       "      <td>616</td>\n",
       "      <td>1247</td>\n",
       "    </tr>\n",
       "    <tr>\n",
       "      <th>18</th>\n",
       "      <td>19</td>\n",
       "      <td>Louisiana</td>\n",
       "      <td>1.00</td>\n",
       "      <td>19.4</td>\n",
       "      <td>18.8</td>\n",
       "      <td>19.8</td>\n",
       "      <td>19.6</td>\n",
       "      <td>19.5</td>\n",
       "      <td>18</td>\n",
       "      <td>0.04</td>\n",
       "      <td>611</td>\n",
       "      <td>586</td>\n",
       "      <td>1198</td>\n",
       "    </tr>\n",
       "    <tr>\n",
       "      <th>19</th>\n",
       "      <td>20</td>\n",
       "      <td>Maine</td>\n",
       "      <td>0.08</td>\n",
       "      <td>24.2</td>\n",
       "      <td>24.0</td>\n",
       "      <td>24.8</td>\n",
       "      <td>23.7</td>\n",
       "      <td>24.3</td>\n",
       "      <td>19</td>\n",
       "      <td>0.95</td>\n",
       "      <td>513</td>\n",
       "      <td>499</td>\n",
       "      <td>1012</td>\n",
       "    </tr>\n",
       "    <tr>\n",
       "      <th>20</th>\n",
       "      <td>21</td>\n",
       "      <td>Maryland</td>\n",
       "      <td>0.28</td>\n",
       "      <td>23.3</td>\n",
       "      <td>23.1</td>\n",
       "      <td>24.2</td>\n",
       "      <td>2.3</td>\n",
       "      <td>23.6</td>\n",
       "      <td>20</td>\n",
       "      <td>0.69</td>\n",
       "      <td>536</td>\n",
       "      <td>52</td>\n",
       "      <td>1060</td>\n",
       "    </tr>\n",
       "    <tr>\n",
       "      <th>21</th>\n",
       "      <td>22</td>\n",
       "      <td>Massachusetts</td>\n",
       "      <td>0.29</td>\n",
       "      <td>25.4</td>\n",
       "      <td>25.3</td>\n",
       "      <td>25.9</td>\n",
       "      <td>24.7</td>\n",
       "      <td>25.4</td>\n",
       "      <td>21</td>\n",
       "      <td>0.76</td>\n",
       "      <td>555</td>\n",
       "      <td>551</td>\n",
       "      <td>1107</td>\n",
       "    </tr>\n",
       "    <tr>\n",
       "      <th>22</th>\n",
       "      <td>23</td>\n",
       "      <td>Michigan</td>\n",
       "      <td>0.29</td>\n",
       "      <td>24.1</td>\n",
       "      <td>23.7</td>\n",
       "      <td>24.5</td>\n",
       "      <td>23.8</td>\n",
       "      <td>24.1</td>\n",
       "      <td>22</td>\n",
       "      <td>1.00</td>\n",
       "      <td>509</td>\n",
       "      <td>495</td>\n",
       "      <td>1005</td>\n",
       "    </tr>\n",
       "    <tr>\n",
       "      <th>23</th>\n",
       "      <td>24</td>\n",
       "      <td>Minnesota</td>\n",
       "      <td>1.00</td>\n",
       "      <td>20.4</td>\n",
       "      <td>21.5</td>\n",
       "      <td>21.8</td>\n",
       "      <td>21.6</td>\n",
       "      <td>21.5</td>\n",
       "      <td>23</td>\n",
       "      <td>0.03</td>\n",
       "      <td>644</td>\n",
       "      <td>651</td>\n",
       "      <td>1295</td>\n",
       "    </tr>\n",
       "    <tr>\n",
       "      <th>24</th>\n",
       "      <td>25</td>\n",
       "      <td>Mississippi</td>\n",
       "      <td>1.00</td>\n",
       "      <td>18.2</td>\n",
       "      <td>18.1</td>\n",
       "      <td>18.8</td>\n",
       "      <td>18.8</td>\n",
       "      <td>18.6</td>\n",
       "      <td>24</td>\n",
       "      <td>0.02</td>\n",
       "      <td>634</td>\n",
       "      <td>607</td>\n",
       "      <td>1242</td>\n",
       "    </tr>\n",
       "    <tr>\n",
       "      <th>25</th>\n",
       "      <td>26</td>\n",
       "      <td>Missouri</td>\n",
       "      <td>1.00</td>\n",
       "      <td>19.8</td>\n",
       "      <td>19.9</td>\n",
       "      <td>20.8</td>\n",
       "      <td>20.5</td>\n",
       "      <td>20.4</td>\n",
       "      <td>25</td>\n",
       "      <td>0.03</td>\n",
       "      <td>640</td>\n",
       "      <td>631</td>\n",
       "      <td>1271</td>\n",
       "    </tr>\n",
       "    <tr>\n",
       "      <th>26</th>\n",
       "      <td>27</td>\n",
       "      <td>Montana</td>\n",
       "      <td>1.00</td>\n",
       "      <td>19.0</td>\n",
       "      <td>20.2</td>\n",
       "      <td>21.0</td>\n",
       "      <td>20.5</td>\n",
       "      <td>20.3</td>\n",
       "      <td>26</td>\n",
       "      <td>0.10</td>\n",
       "      <td>605</td>\n",
       "      <td>591</td>\n",
       "      <td>1196</td>\n",
       "    </tr>\n",
       "    <tr>\n",
       "      <th>27</th>\n",
       "      <td>28</td>\n",
       "      <td>Nebraska</td>\n",
       "      <td>0.84</td>\n",
       "      <td>20.9</td>\n",
       "      <td>20.9</td>\n",
       "      <td>21.9</td>\n",
       "      <td>21.5</td>\n",
       "      <td>21.4</td>\n",
       "      <td>27</td>\n",
       "      <td>0.03</td>\n",
       "      <td>629</td>\n",
       "      <td>625</td>\n",
       "      <td>1253</td>\n",
       "    </tr>\n",
       "    <tr>\n",
       "      <th>28</th>\n",
       "      <td>29</td>\n",
       "      <td>Nevada</td>\n",
       "      <td>1.00</td>\n",
       "      <td>16.3</td>\n",
       "      <td>18.0</td>\n",
       "      <td>18.1</td>\n",
       "      <td>18.2</td>\n",
       "      <td>17.8</td>\n",
       "      <td>28</td>\n",
       "      <td>0.26</td>\n",
       "      <td>563</td>\n",
       "      <td>553</td>\n",
       "      <td>1116</td>\n",
       "    </tr>\n",
       "    <tr>\n",
       "      <th>29</th>\n",
       "      <td>30</td>\n",
       "      <td>New Hampshire</td>\n",
       "      <td>0.18</td>\n",
       "      <td>25.4</td>\n",
       "      <td>25.1</td>\n",
       "      <td>26.0</td>\n",
       "      <td>24.9</td>\n",
       "      <td>25.5</td>\n",
       "      <td>29</td>\n",
       "      <td>0.96</td>\n",
       "      <td>532</td>\n",
       "      <td>520</td>\n",
       "      <td>1052</td>\n",
       "    </tr>\n",
       "    <tr>\n",
       "      <th>30</th>\n",
       "      <td>31</td>\n",
       "      <td>New Jersey</td>\n",
       "      <td>0.34</td>\n",
       "      <td>23.8</td>\n",
       "      <td>23.8</td>\n",
       "      <td>24.1</td>\n",
       "      <td>23.2</td>\n",
       "      <td>23.9</td>\n",
       "      <td>30</td>\n",
       "      <td>0.70</td>\n",
       "      <td>530</td>\n",
       "      <td>526</td>\n",
       "      <td>1056</td>\n",
       "    </tr>\n",
       "    <tr>\n",
       "      <th>31</th>\n",
       "      <td>32</td>\n",
       "      <td>New Mexico</td>\n",
       "      <td>0.66</td>\n",
       "      <td>18.6</td>\n",
       "      <td>19.4</td>\n",
       "      <td>20.4</td>\n",
       "      <td>20.0</td>\n",
       "      <td>19.7</td>\n",
       "      <td>31</td>\n",
       "      <td>0.11</td>\n",
       "      <td>577</td>\n",
       "      <td>561</td>\n",
       "      <td>1138</td>\n",
       "    </tr>\n",
       "    <tr>\n",
       "      <th>32</th>\n",
       "      <td>33</td>\n",
       "      <td>New York</td>\n",
       "      <td>0.31</td>\n",
       "      <td>23.8</td>\n",
       "      <td>24.0</td>\n",
       "      <td>24.6</td>\n",
       "      <td>23.9</td>\n",
       "      <td>24.2</td>\n",
       "      <td>32</td>\n",
       "      <td>0.67</td>\n",
       "      <td>528</td>\n",
       "      <td>523</td>\n",
       "      <td>1052</td>\n",
       "    </tr>\n",
       "    <tr>\n",
       "      <th>33</th>\n",
       "      <td>34</td>\n",
       "      <td>North Carolina</td>\n",
       "      <td>1.00</td>\n",
       "      <td>17.8</td>\n",
       "      <td>19.3</td>\n",
       "      <td>19.6</td>\n",
       "      <td>19.3</td>\n",
       "      <td>19.1</td>\n",
       "      <td>33</td>\n",
       "      <td>0.49</td>\n",
       "      <td>546</td>\n",
       "      <td>535</td>\n",
       "      <td>1081</td>\n",
       "    </tr>\n",
       "    <tr>\n",
       "      <th>34</th>\n",
       "      <td>35</td>\n",
       "      <td>North Dakota</td>\n",
       "      <td>0.98</td>\n",
       "      <td>19.0</td>\n",
       "      <td>20.4</td>\n",
       "      <td>20.5</td>\n",
       "      <td>20.6</td>\n",
       "      <td>20.3</td>\n",
       "      <td>34</td>\n",
       "      <td>0.02</td>\n",
       "      <td>635</td>\n",
       "      <td>621</td>\n",
       "      <td>1256</td>\n",
       "    </tr>\n",
       "    <tr>\n",
       "      <th>35</th>\n",
       "      <td>36</td>\n",
       "      <td>Ohio</td>\n",
       "      <td>0.75</td>\n",
       "      <td>21.2</td>\n",
       "      <td>21.6</td>\n",
       "      <td>22.5</td>\n",
       "      <td>22.0</td>\n",
       "      <td>22.0</td>\n",
       "      <td>35</td>\n",
       "      <td>0.12</td>\n",
       "      <td>578</td>\n",
       "      <td>570</td>\n",
       "      <td>1149</td>\n",
       "    </tr>\n",
       "    <tr>\n",
       "      <th>36</th>\n",
       "      <td>37</td>\n",
       "      <td>Oklahoma</td>\n",
       "      <td>1.00</td>\n",
       "      <td>18.5</td>\n",
       "      <td>18.8</td>\n",
       "      <td>20.1</td>\n",
       "      <td>19.6</td>\n",
       "      <td>19.4</td>\n",
       "      <td>36</td>\n",
       "      <td>0.07</td>\n",
       "      <td>530</td>\n",
       "      <td>517</td>\n",
       "      <td>1047</td>\n",
       "    </tr>\n",
       "    <tr>\n",
       "      <th>37</th>\n",
       "      <td>38</td>\n",
       "      <td>Oregon</td>\n",
       "      <td>0.40</td>\n",
       "      <td>21.2</td>\n",
       "      <td>21.5</td>\n",
       "      <td>22.4</td>\n",
       "      <td>21.7</td>\n",
       "      <td>21.8</td>\n",
       "      <td>37</td>\n",
       "      <td>0.43</td>\n",
       "      <td>560</td>\n",
       "      <td>548</td>\n",
       "      <td>1108</td>\n",
       "    </tr>\n",
       "    <tr>\n",
       "      <th>38</th>\n",
       "      <td>39</td>\n",
       "      <td>Pennsylvania</td>\n",
       "      <td>0.23</td>\n",
       "      <td>23.4</td>\n",
       "      <td>23.4</td>\n",
       "      <td>24.2</td>\n",
       "      <td>23.3</td>\n",
       "      <td>23.7</td>\n",
       "      <td>38</td>\n",
       "      <td>0.65</td>\n",
       "      <td>540</td>\n",
       "      <td>531</td>\n",
       "      <td>1071</td>\n",
       "    </tr>\n",
       "    <tr>\n",
       "      <th>39</th>\n",
       "      <td>40</td>\n",
       "      <td>Rhode Island</td>\n",
       "      <td>0.21</td>\n",
       "      <td>24.0</td>\n",
       "      <td>23.3</td>\n",
       "      <td>24.7</td>\n",
       "      <td>23.4</td>\n",
       "      <td>24.0</td>\n",
       "      <td>39</td>\n",
       "      <td>0.71</td>\n",
       "      <td>539</td>\n",
       "      <td>524</td>\n",
       "      <td>1062</td>\n",
       "    </tr>\n",
       "    <tr>\n",
       "      <th>40</th>\n",
       "      <td>41</td>\n",
       "      <td>South Carolina</td>\n",
       "      <td>1.00</td>\n",
       "      <td>17.5</td>\n",
       "      <td>18.6</td>\n",
       "      <td>19.1</td>\n",
       "      <td>18.9</td>\n",
       "      <td>18.7</td>\n",
       "      <td>40</td>\n",
       "      <td>0.50</td>\n",
       "      <td>543</td>\n",
       "      <td>521</td>\n",
       "      <td>1064</td>\n",
       "    </tr>\n",
       "    <tr>\n",
       "      <th>41</th>\n",
       "      <td>42</td>\n",
       "      <td>South Dakota</td>\n",
       "      <td>0.80</td>\n",
       "      <td>20.7</td>\n",
       "      <td>21.5</td>\n",
       "      <td>22.3</td>\n",
       "      <td>22.0</td>\n",
       "      <td>21.8</td>\n",
       "      <td>41</td>\n",
       "      <td>0.03</td>\n",
       "      <td>612</td>\n",
       "      <td>603</td>\n",
       "      <td>1216</td>\n",
       "    </tr>\n",
       "    <tr>\n",
       "      <th>42</th>\n",
       "      <td>43</td>\n",
       "      <td>Tennessee</td>\n",
       "      <td>1.00</td>\n",
       "      <td>19.5</td>\n",
       "      <td>19.2</td>\n",
       "      <td>20.1</td>\n",
       "      <td>19.9</td>\n",
       "      <td>19.8</td>\n",
       "      <td>42</td>\n",
       "      <td>0.05</td>\n",
       "      <td>623</td>\n",
       "      <td>604</td>\n",
       "      <td>1228</td>\n",
       "    </tr>\n",
       "    <tr>\n",
       "      <th>43</th>\n",
       "      <td>44</td>\n",
       "      <td>Texas</td>\n",
       "      <td>0.45</td>\n",
       "      <td>19.5</td>\n",
       "      <td>20.7</td>\n",
       "      <td>21.1</td>\n",
       "      <td>20.9</td>\n",
       "      <td>20.7</td>\n",
       "      <td>43</td>\n",
       "      <td>0.62</td>\n",
       "      <td>513</td>\n",
       "      <td>507</td>\n",
       "      <td>1020</td>\n",
       "    </tr>\n",
       "    <tr>\n",
       "      <th>44</th>\n",
       "      <td>45</td>\n",
       "      <td>Utah</td>\n",
       "      <td>1.00</td>\n",
       "      <td>19.5</td>\n",
       "      <td>19.9</td>\n",
       "      <td>20.8</td>\n",
       "      <td>20.6</td>\n",
       "      <td>20.3</td>\n",
       "      <td>44</td>\n",
       "      <td>0.03</td>\n",
       "      <td>624</td>\n",
       "      <td>614</td>\n",
       "      <td>1238</td>\n",
       "    </tr>\n",
       "    <tr>\n",
       "      <th>45</th>\n",
       "      <td>46</td>\n",
       "      <td>Vermont</td>\n",
       "      <td>0.29</td>\n",
       "      <td>23.3</td>\n",
       "      <td>23.1</td>\n",
       "      <td>24.4</td>\n",
       "      <td>23.2</td>\n",
       "      <td>23.6</td>\n",
       "      <td>45</td>\n",
       "      <td>0.60</td>\n",
       "      <td>562</td>\n",
       "      <td>551</td>\n",
       "      <td>1114</td>\n",
       "    </tr>\n",
       "    <tr>\n",
       "      <th>46</th>\n",
       "      <td>47</td>\n",
       "      <td>Virginia</td>\n",
       "      <td>0.29</td>\n",
       "      <td>23.5</td>\n",
       "      <td>23.3</td>\n",
       "      <td>24.6</td>\n",
       "      <td>23.5</td>\n",
       "      <td>23.8</td>\n",
       "      <td>46</td>\n",
       "      <td>0.65</td>\n",
       "      <td>561</td>\n",
       "      <td>541</td>\n",
       "      <td>1102</td>\n",
       "    </tr>\n",
       "    <tr>\n",
       "      <th>47</th>\n",
       "      <td>48</td>\n",
       "      <td>Washington</td>\n",
       "      <td>0.29</td>\n",
       "      <td>20.9</td>\n",
       "      <td>21.9</td>\n",
       "      <td>22.1</td>\n",
       "      <td>22.0</td>\n",
       "      <td>21.9</td>\n",
       "      <td>47</td>\n",
       "      <td>0.64</td>\n",
       "      <td>541</td>\n",
       "      <td>534</td>\n",
       "      <td>1075</td>\n",
       "    </tr>\n",
       "    <tr>\n",
       "      <th>48</th>\n",
       "      <td>49</td>\n",
       "      <td>West Virginia</td>\n",
       "      <td>0.69</td>\n",
       "      <td>20.0</td>\n",
       "      <td>19.4</td>\n",
       "      <td>21.2</td>\n",
       "      <td>20.5</td>\n",
       "      <td>20.4</td>\n",
       "      <td>48</td>\n",
       "      <td>0.14</td>\n",
       "      <td>558</td>\n",
       "      <td>528</td>\n",
       "      <td>1086</td>\n",
       "    </tr>\n",
       "    <tr>\n",
       "      <th>49</th>\n",
       "      <td>50</td>\n",
       "      <td>Wisconsin</td>\n",
       "      <td>1.00</td>\n",
       "      <td>19.7</td>\n",
       "      <td>20.4</td>\n",
       "      <td>20.6</td>\n",
       "      <td>20.9</td>\n",
       "      <td>20.5</td>\n",
       "      <td>49</td>\n",
       "      <td>0.03</td>\n",
       "      <td>642</td>\n",
       "      <td>649</td>\n",
       "      <td>1291</td>\n",
       "    </tr>\n",
       "    <tr>\n",
       "      <th>50</th>\n",
       "      <td>51</td>\n",
       "      <td>Wyoming</td>\n",
       "      <td>1.00</td>\n",
       "      <td>19.4</td>\n",
       "      <td>19.8</td>\n",
       "      <td>20.8</td>\n",
       "      <td>20.6</td>\n",
       "      <td>20.2</td>\n",
       "      <td>50</td>\n",
       "      <td>0.03</td>\n",
       "      <td>626</td>\n",
       "      <td>604</td>\n",
       "      <td>1230</td>\n",
       "    </tr>\n",
       "  </tbody>\n",
       "</table>\n",
       "</div>"
      ],
      "text/plain": [
       "     0                 State  act_Participation  act_English  act_Math  \\\n",
       "0    1               Alabama               1.00         18.9      18.4   \n",
       "1    2                Alaska               0.65         18.7      19.8   \n",
       "2    3               Arizona               0.62         18.6      19.8   \n",
       "3    4              Arkansas               1.00         18.9      19.0   \n",
       "4    5            California               0.31         22.5      22.7   \n",
       "5    6              Colorado               1.00         20.1      20.3   \n",
       "6    7           Connecticut               0.31         25.5      24.6   \n",
       "7    8              Delaware               0.18         24.1      23.4   \n",
       "8    9  District of Columbia               0.32         24.4      23.5   \n",
       "9   10               Florida               0.73         19.0      19.4   \n",
       "10  11               Georgia               0.55         21.0      20.9   \n",
       "11  12                Hawaii               0.90         17.8      19.2   \n",
       "12  13                 Idaho               0.38         21.9      21.8   \n",
       "13  14              Illinois               0.93         21.0      21.2   \n",
       "14  15               Indiana               0.35         22.0      22.4   \n",
       "15  16                  Iowa               0.67         21.2      21.3   \n",
       "16  17                Kansas               0.73         21.1      21.3   \n",
       "17  18              Kentucky               1.00         19.6      19.4   \n",
       "18  19             Louisiana               1.00         19.4      18.8   \n",
       "19  20                 Maine               0.08         24.2      24.0   \n",
       "20  21              Maryland               0.28         23.3      23.1   \n",
       "21  22         Massachusetts               0.29         25.4      25.3   \n",
       "22  23              Michigan               0.29         24.1      23.7   \n",
       "23  24             Minnesota               1.00         20.4      21.5   \n",
       "24  25           Mississippi               1.00         18.2      18.1   \n",
       "25  26              Missouri               1.00         19.8      19.9   \n",
       "26  27               Montana               1.00         19.0      20.2   \n",
       "27  28              Nebraska               0.84         20.9      20.9   \n",
       "28  29                Nevada               1.00         16.3      18.0   \n",
       "29  30         New Hampshire               0.18         25.4      25.1   \n",
       "30  31            New Jersey               0.34         23.8      23.8   \n",
       "31  32            New Mexico               0.66         18.6      19.4   \n",
       "32  33              New York               0.31         23.8      24.0   \n",
       "33  34        North Carolina               1.00         17.8      19.3   \n",
       "34  35          North Dakota               0.98         19.0      20.4   \n",
       "35  36                  Ohio               0.75         21.2      21.6   \n",
       "36  37              Oklahoma               1.00         18.5      18.8   \n",
       "37  38                Oregon               0.40         21.2      21.5   \n",
       "38  39          Pennsylvania               0.23         23.4      23.4   \n",
       "39  40          Rhode Island               0.21         24.0      23.3   \n",
       "40  41        South Carolina               1.00         17.5      18.6   \n",
       "41  42          South Dakota               0.80         20.7      21.5   \n",
       "42  43             Tennessee               1.00         19.5      19.2   \n",
       "43  44                 Texas               0.45         19.5      20.7   \n",
       "44  45                  Utah               1.00         19.5      19.9   \n",
       "45  46               Vermont               0.29         23.3      23.1   \n",
       "46  47              Virginia               0.29         23.5      23.3   \n",
       "47  48            Washington               0.29         20.9      21.9   \n",
       "48  49         West Virginia               0.69         20.0      19.4   \n",
       "49  50             Wisconsin               1.00         19.7      20.4   \n",
       "50  51               Wyoming               1.00         19.4      19.8   \n",
       "\n",
       "    act_Reading  act_Science  act_Composite   0  sat_Participation  \\\n",
       "0          19.7         19.4           19.2   0               0.05   \n",
       "1          20.4         19.9           19.8   1               0.38   \n",
       "2          20.1         19.8           19.7   2               0.30   \n",
       "3          19.7         19.5           19.4   3               0.03   \n",
       "4          23.1         22.2           22.8   4               0.53   \n",
       "5          21.2         20.9           20.8   5               0.11   \n",
       "6          25.6         24.6           25.2   6               1.00   \n",
       "7          24.8         23.6           24.1   7               1.00   \n",
       "8          24.9         23.5           24.2   8               1.00   \n",
       "9          21.0         19.4           19.8   9               0.83   \n",
       "10         22.0         21.3           21.4  10               0.61   \n",
       "11         19.2         19.3           19.0  11               0.55   \n",
       "12         23.0         22.1           22.3  12               0.93   \n",
       "13         21.6         21.3           21.4  13               0.09   \n",
       "14         23.2         22.3           22.6  14               0.63   \n",
       "15         22.6         22.1           21.9  15               0.02   \n",
       "16         22.3         21.7           21.7  16               0.04   \n",
       "17         20.5         20.1           20.0  17               0.04   \n",
       "18         19.8         19.6           19.5  18               0.04   \n",
       "19         24.8         23.7           24.3  19               0.95   \n",
       "20         24.2          2.3           23.6  20               0.69   \n",
       "21         25.9         24.7           25.4  21               0.76   \n",
       "22         24.5         23.8           24.1  22               1.00   \n",
       "23         21.8         21.6           21.5  23               0.03   \n",
       "24         18.8         18.8           18.6  24               0.02   \n",
       "25         20.8         20.5           20.4  25               0.03   \n",
       "26         21.0         20.5           20.3  26               0.10   \n",
       "27         21.9         21.5           21.4  27               0.03   \n",
       "28         18.1         18.2           17.8  28               0.26   \n",
       "29         26.0         24.9           25.5  29               0.96   \n",
       "30         24.1         23.2           23.9  30               0.70   \n",
       "31         20.4         20.0           19.7  31               0.11   \n",
       "32         24.6         23.9           24.2  32               0.67   \n",
       "33         19.6         19.3           19.1  33               0.49   \n",
       "34         20.5         20.6           20.3  34               0.02   \n",
       "35         22.5         22.0           22.0  35               0.12   \n",
       "36         20.1         19.6           19.4  36               0.07   \n",
       "37         22.4         21.7           21.8  37               0.43   \n",
       "38         24.2         23.3           23.7  38               0.65   \n",
       "39         24.7         23.4           24.0  39               0.71   \n",
       "40         19.1         18.9           18.7  40               0.50   \n",
       "41         22.3         22.0           21.8  41               0.03   \n",
       "42         20.1         19.9           19.8  42               0.05   \n",
       "43         21.1         20.9           20.7  43               0.62   \n",
       "44         20.8         20.6           20.3  44               0.03   \n",
       "45         24.4         23.2           23.6  45               0.60   \n",
       "46         24.6         23.5           23.8  46               0.65   \n",
       "47         22.1         22.0           21.9  47               0.64   \n",
       "48         21.2         20.5           20.4  48               0.14   \n",
       "49         20.6         20.9           20.5  49               0.03   \n",
       "50         20.8         20.6           20.2  50               0.03   \n",
       "\n",
       "    sat_ReadingWriting  sat_Math  sat_Total  \n",
       "0                  593       572       1165  \n",
       "1                  547       533       1080  \n",
       "2                  563       553       1116  \n",
       "3                  614       594       1208  \n",
       "4                  531       524       1055  \n",
       "5                  606       595       1201  \n",
       "6                  530       512       1041  \n",
       "7                  503       492        996  \n",
       "8                  482       468        950  \n",
       "9                  520       497       1017  \n",
       "10                 535       515       1050  \n",
       "11                 544       541       1085  \n",
       "12                 513       493       1005  \n",
       "13                 559       556       1115  \n",
       "14                 542       532       1074  \n",
       "15                 641       635       1275  \n",
       "16                 632       628       1260  \n",
       "17                 631       616       1247  \n",
       "18                 611       586       1198  \n",
       "19                 513       499       1012  \n",
       "20                 536        52       1060  \n",
       "21                 555       551       1107  \n",
       "22                 509       495       1005  \n",
       "23                 644       651       1295  \n",
       "24                 634       607       1242  \n",
       "25                 640       631       1271  \n",
       "26                 605       591       1196  \n",
       "27                 629       625       1253  \n",
       "28                 563       553       1116  \n",
       "29                 532       520       1052  \n",
       "30                 530       526       1056  \n",
       "31                 577       561       1138  \n",
       "32                 528       523       1052  \n",
       "33                 546       535       1081  \n",
       "34                 635       621       1256  \n",
       "35                 578       570       1149  \n",
       "36                 530       517       1047  \n",
       "37                 560       548       1108  \n",
       "38                 540       531       1071  \n",
       "39                 539       524       1062  \n",
       "40                 543       521       1064  \n",
       "41                 612       603       1216  \n",
       "42                 623       604       1228  \n",
       "43                 513       507       1020  \n",
       "44                 624       614       1238  \n",
       "45                 562       551       1114  \n",
       "46                 561       541       1102  \n",
       "47                 541       534       1075  \n",
       "48                 558       528       1086  \n",
       "49                 642       649       1291  \n",
       "50                 626       604       1230  "
      ]
     },
     "execution_count": 327,
     "metadata": {},
     "output_type": "execute_result"
    }
   ],
   "source": [
    "# or use DataFrame.renamemerged_scores.columns = ['0','State','SAT Participation']\n",
    "merged.columns = ['0', 'State', 'act_Participation', 'act_English', 'act_Math', 'act_Reading', 'act_Science', 'act_Composite', '0', 'sat_Participation', 'sat_ReadingWriting', 'sat_Math', 'sat_Total']\n",
    "merged"
   ]
  },
  {
   "cell_type": "markdown",
   "metadata": {},
   "source": [
    "##### 11. Print the minimum and maximum of each numeric column in the data frame."
   ]
  },
  {
   "cell_type": "code",
   "execution_count": 21,
   "metadata": {},
   "outputs": [
    {
     "data": {
      "text/html": [
       "<div>\n",
       "<style>\n",
       "    .dataframe thead tr:only-child th {\n",
       "        text-align: right;\n",
       "    }\n",
       "\n",
       "    .dataframe thead th {\n",
       "        text-align: left;\n",
       "    }\n",
       "\n",
       "    .dataframe tbody tr th {\n",
       "        vertical-align: top;\n",
       "    }\n",
       "</style>\n",
       "<table border=\"1\" class=\"dataframe\">\n",
       "  <thead>\n",
       "    <tr style=\"text-align: right;\">\n",
       "      <th></th>\n",
       "      <th>0</th>\n",
       "      <th>act_Participation</th>\n",
       "      <th>act_English</th>\n",
       "      <th>act_Math</th>\n",
       "      <th>act_Reading</th>\n",
       "      <th>act_Science</th>\n",
       "      <th>act_Composite</th>\n",
       "      <th>0</th>\n",
       "      <th>sat_Participation</th>\n",
       "      <th>sat_ReadingWriting</th>\n",
       "      <th>sat_Math</th>\n",
       "      <th>sat_Total</th>\n",
       "    </tr>\n",
       "  </thead>\n",
       "  <tbody>\n",
       "    <tr>\n",
       "      <th>count</th>\n",
       "      <td>51.000000</td>\n",
       "      <td>51.000000</td>\n",
       "      <td>51.000000</td>\n",
       "      <td>51.000000</td>\n",
       "      <td>51.000000</td>\n",
       "      <td>51.000000</td>\n",
       "      <td>51.000000</td>\n",
       "      <td>51.000000</td>\n",
       "      <td>51.000000</td>\n",
       "      <td>51.000000</td>\n",
       "      <td>51.000000</td>\n",
       "      <td>51.000000</td>\n",
       "    </tr>\n",
       "    <tr>\n",
       "      <th>mean</th>\n",
       "      <td>26.000000</td>\n",
       "      <td>0.652549</td>\n",
       "      <td>20.931373</td>\n",
       "      <td>21.182353</td>\n",
       "      <td>22.013725</td>\n",
       "      <td>21.041176</td>\n",
       "      <td>21.519608</td>\n",
       "      <td>25.000000</td>\n",
       "      <td>0.398039</td>\n",
       "      <td>569.117647</td>\n",
       "      <td>547.627451</td>\n",
       "      <td>1126.098039</td>\n",
       "    </tr>\n",
       "    <tr>\n",
       "      <th>std</th>\n",
       "      <td>14.866069</td>\n",
       "      <td>0.321408</td>\n",
       "      <td>2.353677</td>\n",
       "      <td>1.981989</td>\n",
       "      <td>2.067271</td>\n",
       "      <td>3.182463</td>\n",
       "      <td>2.020695</td>\n",
       "      <td>14.866069</td>\n",
       "      <td>0.352766</td>\n",
       "      <td>45.666901</td>\n",
       "      <td>84.909119</td>\n",
       "      <td>92.494812</td>\n",
       "    </tr>\n",
       "    <tr>\n",
       "      <th>min</th>\n",
       "      <td>1.000000</td>\n",
       "      <td>0.080000</td>\n",
       "      <td>16.300000</td>\n",
       "      <td>18.000000</td>\n",
       "      <td>18.100000</td>\n",
       "      <td>2.300000</td>\n",
       "      <td>17.800000</td>\n",
       "      <td>0.000000</td>\n",
       "      <td>0.020000</td>\n",
       "      <td>482.000000</td>\n",
       "      <td>52.000000</td>\n",
       "      <td>950.000000</td>\n",
       "    </tr>\n",
       "    <tr>\n",
       "      <th>25%</th>\n",
       "      <td>13.500000</td>\n",
       "      <td>0.310000</td>\n",
       "      <td>19.000000</td>\n",
       "      <td>19.400000</td>\n",
       "      <td>20.450000</td>\n",
       "      <td>19.900000</td>\n",
       "      <td>19.800000</td>\n",
       "      <td>12.500000</td>\n",
       "      <td>0.040000</td>\n",
       "      <td>533.500000</td>\n",
       "      <td>522.000000</td>\n",
       "      <td>1055.500000</td>\n",
       "    </tr>\n",
       "    <tr>\n",
       "      <th>50%</th>\n",
       "      <td>26.000000</td>\n",
       "      <td>0.690000</td>\n",
       "      <td>20.700000</td>\n",
       "      <td>20.900000</td>\n",
       "      <td>21.800000</td>\n",
       "      <td>21.300000</td>\n",
       "      <td>21.400000</td>\n",
       "      <td>25.000000</td>\n",
       "      <td>0.380000</td>\n",
       "      <td>559.000000</td>\n",
       "      <td>548.000000</td>\n",
       "      <td>1107.000000</td>\n",
       "    </tr>\n",
       "    <tr>\n",
       "      <th>75%</th>\n",
       "      <td>38.500000</td>\n",
       "      <td>1.000000</td>\n",
       "      <td>23.300000</td>\n",
       "      <td>23.100000</td>\n",
       "      <td>24.150000</td>\n",
       "      <td>22.750000</td>\n",
       "      <td>23.600000</td>\n",
       "      <td>37.500000</td>\n",
       "      <td>0.660000</td>\n",
       "      <td>613.000000</td>\n",
       "      <td>599.000000</td>\n",
       "      <td>1212.000000</td>\n",
       "    </tr>\n",
       "    <tr>\n",
       "      <th>max</th>\n",
       "      <td>51.000000</td>\n",
       "      <td>1.000000</td>\n",
       "      <td>25.500000</td>\n",
       "      <td>25.300000</td>\n",
       "      <td>26.000000</td>\n",
       "      <td>24.900000</td>\n",
       "      <td>25.500000</td>\n",
       "      <td>50.000000</td>\n",
       "      <td>1.000000</td>\n",
       "      <td>644.000000</td>\n",
       "      <td>651.000000</td>\n",
       "      <td>1295.000000</td>\n",
       "    </tr>\n",
       "  </tbody>\n",
       "</table>\n",
       "</div>"
      ],
      "text/plain": [
       "               0  act_Participation  act_English   act_Math  act_Reading  \\\n",
       "count  51.000000          51.000000    51.000000  51.000000    51.000000   \n",
       "mean   26.000000           0.652549    20.931373  21.182353    22.013725   \n",
       "std    14.866069           0.321408     2.353677   1.981989     2.067271   \n",
       "min     1.000000           0.080000    16.300000  18.000000    18.100000   \n",
       "25%    13.500000           0.310000    19.000000  19.400000    20.450000   \n",
       "50%    26.000000           0.690000    20.700000  20.900000    21.800000   \n",
       "75%    38.500000           1.000000    23.300000  23.100000    24.150000   \n",
       "max    51.000000           1.000000    25.500000  25.300000    26.000000   \n",
       "\n",
       "       act_Science  act_Composite          0  sat_Participation  \\\n",
       "count    51.000000      51.000000  51.000000          51.000000   \n",
       "mean     21.041176      21.519608  25.000000           0.398039   \n",
       "std       3.182463       2.020695  14.866069           0.352766   \n",
       "min       2.300000      17.800000   0.000000           0.020000   \n",
       "25%      19.900000      19.800000  12.500000           0.040000   \n",
       "50%      21.300000      21.400000  25.000000           0.380000   \n",
       "75%      22.750000      23.600000  37.500000           0.660000   \n",
       "max      24.900000      25.500000  50.000000           1.000000   \n",
       "\n",
       "       sat_ReadingWriting    sat_Math    sat_Total  \n",
       "count           51.000000   51.000000    51.000000  \n",
       "mean           569.117647  547.627451  1126.098039  \n",
       "std             45.666901   84.909119    92.494812  \n",
       "min            482.000000   52.000000   950.000000  \n",
       "25%            533.500000  522.000000  1055.500000  \n",
       "50%            559.000000  548.000000  1107.000000  \n",
       "75%            613.000000  599.000000  1212.000000  \n",
       "max            644.000000  651.000000  1295.000000  "
      ]
     },
     "execution_count": 21,
     "metadata": {},
     "output_type": "execute_result"
    }
   ],
   "source": [
    "merged.describe()"
   ]
  },
  {
   "cell_type": "code",
   "execution_count": 22,
   "metadata": {
    "collapsed": true
   },
   "outputs": [
    {
     "data": {
      "text/plain": [
       "(0                          51\n",
       " State                 Wyoming\n",
       " act_Participation           1\n",
       " act_English              25.5\n",
       " act_Math                 25.3\n",
       " act_Reading                26\n",
       " act_Science              24.9\n",
       " act_Composite            25.5\n",
       " 0                          50\n",
       " sat_Participation           1\n",
       " sat_ReadingWriting        644\n",
       " sat_Math                  651\n",
       " sat_Total                1295\n",
       " dtype: object, 0                           1\n",
       " State                 Alabama\n",
       " act_Participation        0.08\n",
       " act_English              16.3\n",
       " act_Math                   18\n",
       " act_Reading              18.1\n",
       " act_Science               2.3\n",
       " act_Composite            17.8\n",
       " 0                           0\n",
       " sat_Participation        0.02\n",
       " sat_ReadingWriting        482\n",
       " sat_Math                   52\n",
       " sat_Total                 950\n",
       " dtype: object)"
      ]
     },
     "execution_count": 22,
     "metadata": {},
     "output_type": "execute_result"
    }
   ],
   "source": [
    "merged.max(),merged.min()"
   ]
  },
  {
   "cell_type": "markdown",
   "metadata": {},
   "source": [
    "##### 12. Write a function using only list comprehensions, no loops, to compute standard deviation. Using this function, calculate the standard deviation of each numeric column in both data sets. Add these to a list called `sd`.\n",
    "\n",
    "$$\\sigma = \\sqrt{\\frac{1}{n}\\sum_{i=1}^n(x_i - \\mu)^2}$$"
   ]
  },
  {
   "cell_type": "code",
   "execution_count": 34,
   "metadata": {},
   "outputs": [
    {
     "data": {
      "text/plain": [
       "[0    14.866069\n",
       " 0    14.866069\n",
       " dtype: float64,\n",
       " 0.32140842015886834,\n",
       " 2.35367713980303,\n",
       " 1.9819894936505533,\n",
       " 2.0672706264873146,\n",
       " 3.182462975155452,\n",
       " 2.020694891154341,\n",
       " 0    14.866069\n",
       " 0    14.866069\n",
       " dtype: float64,\n",
       " 0.35276632270013036,\n",
       " 45.66690138768932,\n",
       " 84.90911865855486,\n",
       " 92.49481172519046]"
      ]
     },
     "execution_count": 34,
     "metadata": {},
     "output_type": "execute_result"
    }
   ],
   "source": [
    "numerged = merged.select_dtypes(include=['float64', 'int64'])\n",
    "#numerged.head()\n",
    "sd = [np.std(numerged[name], ddof=1) for name in numerged.columns]\n",
    "sd"
   ]
  },
  {
   "cell_type": "markdown",
   "metadata": {},
   "source": [
    "## Step 2: Manipulate the dataframe"
   ]
  },
  {
   "cell_type": "markdown",
   "metadata": {},
   "source": [
    "##### 13. Turn the list `sd` into a new observation in your dataset."
   ]
  },
  {
   "cell_type": "code",
   "execution_count": 44,
   "metadata": {},
   "outputs": [
    {
     "data": {
      "text/plain": [
       "<bound method NDFrame.head of             0  act_Participation  act_English   act_Math  act_Reading  \\\n",
       "0    1.000000           1.000000    18.900000  18.400000    19.700000   \n",
       "1    2.000000           0.650000    18.700000  19.800000    20.400000   \n",
       "2    3.000000           0.620000    18.600000  19.800000    20.100000   \n",
       "3    4.000000           1.000000    18.900000  19.000000    19.700000   \n",
       "4    5.000000           0.310000    22.500000  22.700000    23.100000   \n",
       "5    6.000000           1.000000    20.100000  20.300000    21.200000   \n",
       "6    7.000000           0.310000    25.500000  24.600000    25.600000   \n",
       "7    8.000000           0.180000    24.100000  23.400000    24.800000   \n",
       "8    9.000000           0.320000    24.400000  23.500000    24.900000   \n",
       "9   10.000000           0.730000    19.000000  19.400000    21.000000   \n",
       "10  11.000000           0.550000    21.000000  20.900000    22.000000   \n",
       "11  12.000000           0.900000    17.800000  19.200000    19.200000   \n",
       "12  13.000000           0.380000    21.900000  21.800000    23.000000   \n",
       "13  14.000000           0.930000    21.000000  21.200000    21.600000   \n",
       "14  15.000000           0.350000    22.000000  22.400000    23.200000   \n",
       "15  16.000000           0.670000    21.200000  21.300000    22.600000   \n",
       "16  17.000000           0.730000    21.100000  21.300000    22.300000   \n",
       "17  18.000000           1.000000    19.600000  19.400000    20.500000   \n",
       "18  19.000000           1.000000    19.400000  18.800000    19.800000   \n",
       "19  20.000000           0.080000    24.200000  24.000000    24.800000   \n",
       "20  21.000000           0.280000    23.300000  23.100000    24.200000   \n",
       "21  22.000000           0.290000    25.400000  25.300000    25.900000   \n",
       "22  23.000000           0.290000    24.100000  23.700000    24.500000   \n",
       "23  24.000000           1.000000    20.400000  21.500000    21.800000   \n",
       "24  25.000000           1.000000    18.200000  18.100000    18.800000   \n",
       "25  26.000000           1.000000    19.800000  19.900000    20.800000   \n",
       "26  27.000000           1.000000    19.000000  20.200000    21.000000   \n",
       "27  28.000000           0.840000    20.900000  20.900000    21.900000   \n",
       "28  29.000000           1.000000    16.300000  18.000000    18.100000   \n",
       "29  30.000000           0.180000    25.400000  25.100000    26.000000   \n",
       "30  31.000000           0.340000    23.800000  23.800000    24.100000   \n",
       "31  32.000000           0.660000    18.600000  19.400000    20.400000   \n",
       "32  33.000000           0.310000    23.800000  24.000000    24.600000   \n",
       "33  34.000000           1.000000    17.800000  19.300000    19.600000   \n",
       "34  35.000000           0.980000    19.000000  20.400000    20.500000   \n",
       "35  36.000000           0.750000    21.200000  21.600000    22.500000   \n",
       "36  37.000000           1.000000    18.500000  18.800000    20.100000   \n",
       "37  38.000000           0.400000    21.200000  21.500000    22.400000   \n",
       "38  39.000000           0.230000    23.400000  23.400000    24.200000   \n",
       "39  40.000000           0.210000    24.000000  23.300000    24.700000   \n",
       "40  41.000000           1.000000    17.500000  18.600000    19.100000   \n",
       "41  42.000000           0.800000    20.700000  21.500000    22.300000   \n",
       "42  43.000000           1.000000    19.500000  19.200000    20.100000   \n",
       "43  44.000000           0.450000    19.500000  20.700000    21.100000   \n",
       "44  45.000000           1.000000    19.500000  19.900000    20.800000   \n",
       "45  46.000000           0.290000    23.300000  23.100000    24.400000   \n",
       "46  47.000000           0.290000    23.500000  23.300000    24.600000   \n",
       "47  48.000000           0.290000    20.900000  21.900000    22.100000   \n",
       "48  49.000000           0.690000    20.000000  19.400000    21.200000   \n",
       "49  50.000000           1.000000    19.700000  20.400000    20.600000   \n",
       "50  51.000000           1.000000    19.400000  19.800000    20.800000   \n",
       "sd  14.866069           0.321408     2.353677   1.981989     2.067271   \n",
       "\n",
       "    act_Science  act_Composite          0  sat_Participation  \\\n",
       "0     19.400000      19.200000   0.000000           0.050000   \n",
       "1     19.900000      19.800000   1.000000           0.380000   \n",
       "2     19.800000      19.700000   2.000000           0.300000   \n",
       "3     19.500000      19.400000   3.000000           0.030000   \n",
       "4     22.200000      22.800000   4.000000           0.530000   \n",
       "5     20.900000      20.800000   5.000000           0.110000   \n",
       "6     24.600000      25.200000   6.000000           1.000000   \n",
       "7     23.600000      24.100000   7.000000           1.000000   \n",
       "8     23.500000      24.200000   8.000000           1.000000   \n",
       "9     19.400000      19.800000   9.000000           0.830000   \n",
       "10    21.300000      21.400000  10.000000           0.610000   \n",
       "11    19.300000      19.000000  11.000000           0.550000   \n",
       "12    22.100000      22.300000  12.000000           0.930000   \n",
       "13    21.300000      21.400000  13.000000           0.090000   \n",
       "14    22.300000      22.600000  14.000000           0.630000   \n",
       "15    22.100000      21.900000  15.000000           0.020000   \n",
       "16    21.700000      21.700000  16.000000           0.040000   \n",
       "17    20.100000      20.000000  17.000000           0.040000   \n",
       "18    19.600000      19.500000  18.000000           0.040000   \n",
       "19    23.700000      24.300000  19.000000           0.950000   \n",
       "20     2.300000      23.600000  20.000000           0.690000   \n",
       "21    24.700000      25.400000  21.000000           0.760000   \n",
       "22    23.800000      24.100000  22.000000           1.000000   \n",
       "23    21.600000      21.500000  23.000000           0.030000   \n",
       "24    18.800000      18.600000  24.000000           0.020000   \n",
       "25    20.500000      20.400000  25.000000           0.030000   \n",
       "26    20.500000      20.300000  26.000000           0.100000   \n",
       "27    21.500000      21.400000  27.000000           0.030000   \n",
       "28    18.200000      17.800000  28.000000           0.260000   \n",
       "29    24.900000      25.500000  29.000000           0.960000   \n",
       "30    23.200000      23.900000  30.000000           0.700000   \n",
       "31    20.000000      19.700000  31.000000           0.110000   \n",
       "32    23.900000      24.200000  32.000000           0.670000   \n",
       "33    19.300000      19.100000  33.000000           0.490000   \n",
       "34    20.600000      20.300000  34.000000           0.020000   \n",
       "35    22.000000      22.000000  35.000000           0.120000   \n",
       "36    19.600000      19.400000  36.000000           0.070000   \n",
       "37    21.700000      21.800000  37.000000           0.430000   \n",
       "38    23.300000      23.700000  38.000000           0.650000   \n",
       "39    23.400000      24.000000  39.000000           0.710000   \n",
       "40    18.900000      18.700000  40.000000           0.500000   \n",
       "41    22.000000      21.800000  41.000000           0.030000   \n",
       "42    19.900000      19.800000  42.000000           0.050000   \n",
       "43    20.900000      20.700000  43.000000           0.620000   \n",
       "44    20.600000      20.300000  44.000000           0.030000   \n",
       "45    23.200000      23.600000  45.000000           0.600000   \n",
       "46    23.500000      23.800000  46.000000           0.650000   \n",
       "47    22.000000      21.900000  47.000000           0.640000   \n",
       "48    20.500000      20.400000  48.000000           0.140000   \n",
       "49    20.900000      20.500000  49.000000           0.030000   \n",
       "50    20.600000      20.200000  50.000000           0.030000   \n",
       "sd     3.182463       2.020695  14.866069           0.352766   \n",
       "\n",
       "    sat_ReadingWriting    sat_Math    sat_Total  \n",
       "0           593.000000  572.000000  1165.000000  \n",
       "1           547.000000  533.000000  1080.000000  \n",
       "2           563.000000  553.000000  1116.000000  \n",
       "3           614.000000  594.000000  1208.000000  \n",
       "4           531.000000  524.000000  1055.000000  \n",
       "5           606.000000  595.000000  1201.000000  \n",
       "6           530.000000  512.000000  1041.000000  \n",
       "7           503.000000  492.000000   996.000000  \n",
       "8           482.000000  468.000000   950.000000  \n",
       "9           520.000000  497.000000  1017.000000  \n",
       "10          535.000000  515.000000  1050.000000  \n",
       "11          544.000000  541.000000  1085.000000  \n",
       "12          513.000000  493.000000  1005.000000  \n",
       "13          559.000000  556.000000  1115.000000  \n",
       "14          542.000000  532.000000  1074.000000  \n",
       "15          641.000000  635.000000  1275.000000  \n",
       "16          632.000000  628.000000  1260.000000  \n",
       "17          631.000000  616.000000  1247.000000  \n",
       "18          611.000000  586.000000  1198.000000  \n",
       "19          513.000000  499.000000  1012.000000  \n",
       "20          536.000000   52.000000  1060.000000  \n",
       "21          555.000000  551.000000  1107.000000  \n",
       "22          509.000000  495.000000  1005.000000  \n",
       "23          644.000000  651.000000  1295.000000  \n",
       "24          634.000000  607.000000  1242.000000  \n",
       "25          640.000000  631.000000  1271.000000  \n",
       "26          605.000000  591.000000  1196.000000  \n",
       "27          629.000000  625.000000  1253.000000  \n",
       "28          563.000000  553.000000  1116.000000  \n",
       "29          532.000000  520.000000  1052.000000  \n",
       "30          530.000000  526.000000  1056.000000  \n",
       "31          577.000000  561.000000  1138.000000  \n",
       "32          528.000000  523.000000  1052.000000  \n",
       "33          546.000000  535.000000  1081.000000  \n",
       "34          635.000000  621.000000  1256.000000  \n",
       "35          578.000000  570.000000  1149.000000  \n",
       "36          530.000000  517.000000  1047.000000  \n",
       "37          560.000000  548.000000  1108.000000  \n",
       "38          540.000000  531.000000  1071.000000  \n",
       "39          539.000000  524.000000  1062.000000  \n",
       "40          543.000000  521.000000  1064.000000  \n",
       "41          612.000000  603.000000  1216.000000  \n",
       "42          623.000000  604.000000  1228.000000  \n",
       "43          513.000000  507.000000  1020.000000  \n",
       "44          624.000000  614.000000  1238.000000  \n",
       "45          562.000000  551.000000  1114.000000  \n",
       "46          561.000000  541.000000  1102.000000  \n",
       "47          541.000000  534.000000  1075.000000  \n",
       "48          558.000000  528.000000  1086.000000  \n",
       "49          642.000000  649.000000  1291.000000  \n",
       "50          626.000000  604.000000  1230.000000  \n",
       "sd           45.666901   84.909119    92.494812  >"
      ]
     },
     "execution_count": 44,
     "metadata": {},
     "output_type": "execute_result"
    }
   ],
   "source": [
    "numerged.loc['sd', :] = sd\n",
    "numerged.head"
   ]
  },
  {
   "cell_type": "markdown",
   "metadata": {},
   "source": [
    "##### 14. Sort the dataframe by the values in a numeric column (e.g. observations descending by SAT participation rate)"
   ]
  },
  {
   "cell_type": "code",
   "execution_count": 37,
   "metadata": {},
   "outputs": [
    {
     "data": {
      "text/html": [
       "<div>\n",
       "<style>\n",
       "    .dataframe thead tr:only-child th {\n",
       "        text-align: right;\n",
       "    }\n",
       "\n",
       "    .dataframe thead th {\n",
       "        text-align: left;\n",
       "    }\n",
       "\n",
       "    .dataframe tbody tr th {\n",
       "        vertical-align: top;\n",
       "    }\n",
       "</style>\n",
       "<table border=\"1\" class=\"dataframe\">\n",
       "  <thead>\n",
       "    <tr style=\"text-align: right;\">\n",
       "      <th></th>\n",
       "      <th>0</th>\n",
       "      <th>act_Participation</th>\n",
       "      <th>act_English</th>\n",
       "      <th>act_Math</th>\n",
       "      <th>act_Reading</th>\n",
       "      <th>act_Science</th>\n",
       "      <th>act_Composite</th>\n",
       "      <th>0</th>\n",
       "      <th>sat_Participation</th>\n",
       "      <th>sat_ReadingWriting</th>\n",
       "      <th>sat_Math</th>\n",
       "      <th>sat_Total</th>\n",
       "    </tr>\n",
       "  </thead>\n",
       "  <tbody>\n",
       "    <tr>\n",
       "      <th>6</th>\n",
       "      <td>7.0</td>\n",
       "      <td>0.31</td>\n",
       "      <td>25.5</td>\n",
       "      <td>24.6</td>\n",
       "      <td>25.6</td>\n",
       "      <td>24.6</td>\n",
       "      <td>25.2</td>\n",
       "      <td>6.0</td>\n",
       "      <td>1.00</td>\n",
       "      <td>530.0</td>\n",
       "      <td>512.0</td>\n",
       "      <td>1041.0</td>\n",
       "    </tr>\n",
       "    <tr>\n",
       "      <th>29</th>\n",
       "      <td>30.0</td>\n",
       "      <td>0.18</td>\n",
       "      <td>25.4</td>\n",
       "      <td>25.1</td>\n",
       "      <td>26.0</td>\n",
       "      <td>24.9</td>\n",
       "      <td>25.5</td>\n",
       "      <td>29.0</td>\n",
       "      <td>0.96</td>\n",
       "      <td>532.0</td>\n",
       "      <td>520.0</td>\n",
       "      <td>1052.0</td>\n",
       "    </tr>\n",
       "    <tr>\n",
       "      <th>21</th>\n",
       "      <td>22.0</td>\n",
       "      <td>0.29</td>\n",
       "      <td>25.4</td>\n",
       "      <td>25.3</td>\n",
       "      <td>25.9</td>\n",
       "      <td>24.7</td>\n",
       "      <td>25.4</td>\n",
       "      <td>21.0</td>\n",
       "      <td>0.76</td>\n",
       "      <td>555.0</td>\n",
       "      <td>551.0</td>\n",
       "      <td>1107.0</td>\n",
       "    </tr>\n",
       "    <tr>\n",
       "      <th>8</th>\n",
       "      <td>9.0</td>\n",
       "      <td>0.32</td>\n",
       "      <td>24.4</td>\n",
       "      <td>23.5</td>\n",
       "      <td>24.9</td>\n",
       "      <td>23.5</td>\n",
       "      <td>24.2</td>\n",
       "      <td>8.0</td>\n",
       "      <td>1.00</td>\n",
       "      <td>482.0</td>\n",
       "      <td>468.0</td>\n",
       "      <td>950.0</td>\n",
       "    </tr>\n",
       "    <tr>\n",
       "      <th>19</th>\n",
       "      <td>20.0</td>\n",
       "      <td>0.08</td>\n",
       "      <td>24.2</td>\n",
       "      <td>24.0</td>\n",
       "      <td>24.8</td>\n",
       "      <td>23.7</td>\n",
       "      <td>24.3</td>\n",
       "      <td>19.0</td>\n",
       "      <td>0.95</td>\n",
       "      <td>513.0</td>\n",
       "      <td>499.0</td>\n",
       "      <td>1012.0</td>\n",
       "    </tr>\n",
       "  </tbody>\n",
       "</table>\n",
       "</div>"
      ],
      "text/plain": [
       "       0  act_Participation  act_English  act_Math  act_Reading  act_Science  \\\n",
       "6    7.0               0.31         25.5      24.6         25.6         24.6   \n",
       "29  30.0               0.18         25.4      25.1         26.0         24.9   \n",
       "21  22.0               0.29         25.4      25.3         25.9         24.7   \n",
       "8    9.0               0.32         24.4      23.5         24.9         23.5   \n",
       "19  20.0               0.08         24.2      24.0         24.8         23.7   \n",
       "\n",
       "    act_Composite     0  sat_Participation  sat_ReadingWriting  sat_Math  \\\n",
       "6            25.2   6.0               1.00               530.0     512.0   \n",
       "29           25.5  29.0               0.96               532.0     520.0   \n",
       "21           25.4  21.0               0.76               555.0     551.0   \n",
       "8            24.2   8.0               1.00               482.0     468.0   \n",
       "19           24.3  19.0               0.95               513.0     499.0   \n",
       "\n",
       "    sat_Total  \n",
       "6      1041.0  \n",
       "29     1052.0  \n",
       "21     1107.0  \n",
       "8       950.0  \n",
       "19     1012.0  "
      ]
     },
     "execution_count": 37,
     "metadata": {},
     "output_type": "execute_result"
    }
   ],
   "source": [
    "numerged.sort_values('act_English', ascending=False).head()"
   ]
  },
  {
   "cell_type": "markdown",
   "metadata": {},
   "source": [
    "##### 15. Use a boolean filter to display only observations with a score above a certain threshold (e.g. only states with a participation rate above 50%)"
   ]
  },
  {
   "cell_type": "code",
   "execution_count": 286,
   "metadata": {},
   "outputs": [
    {
     "data": {
      "text/html": [
       "<div>\n",
       "<style>\n",
       "    .dataframe thead tr:only-child th {\n",
       "        text-align: right;\n",
       "    }\n",
       "\n",
       "    .dataframe thead th {\n",
       "        text-align: left;\n",
       "    }\n",
       "\n",
       "    .dataframe tbody tr th {\n",
       "        vertical-align: top;\n",
       "    }\n",
       "</style>\n",
       "<table border=\"1\" class=\"dataframe\">\n",
       "  <thead>\n",
       "    <tr style=\"text-align: right;\">\n",
       "      <th></th>\n",
       "      <th>0</th>\n",
       "      <th>act_Participation</th>\n",
       "      <th>act_English</th>\n",
       "      <th>act_Math</th>\n",
       "      <th>act_Reading</th>\n",
       "      <th>act_Science</th>\n",
       "      <th>act_Composite</th>\n",
       "      <th>0</th>\n",
       "      <th>sat_Participation</th>\n",
       "      <th>sat_ReadingWriting</th>\n",
       "      <th>sat_Math</th>\n",
       "      <th>sat_Total</th>\n",
       "    </tr>\n",
       "  </thead>\n",
       "  <tbody>\n",
       "    <tr>\n",
       "      <th>0</th>\n",
       "      <td>1.0</td>\n",
       "      <td>1.0</td>\n",
       "      <td>18.9</td>\n",
       "      <td>18.4</td>\n",
       "      <td>19.7</td>\n",
       "      <td>19.4</td>\n",
       "      <td>19.2</td>\n",
       "      <td>0.0</td>\n",
       "      <td>0.05</td>\n",
       "      <td>593.0</td>\n",
       "      <td>572.0</td>\n",
       "      <td>1165.0</td>\n",
       "    </tr>\n",
       "    <tr>\n",
       "      <th>18</th>\n",
       "      <td>19.0</td>\n",
       "      <td>1.0</td>\n",
       "      <td>19.4</td>\n",
       "      <td>18.8</td>\n",
       "      <td>19.8</td>\n",
       "      <td>19.6</td>\n",
       "      <td>19.5</td>\n",
       "      <td>18.0</td>\n",
       "      <td>0.04</td>\n",
       "      <td>611.0</td>\n",
       "      <td>586.0</td>\n",
       "      <td>1198.0</td>\n",
       "    </tr>\n",
       "    <tr>\n",
       "      <th>49</th>\n",
       "      <td>50.0</td>\n",
       "      <td>1.0</td>\n",
       "      <td>19.7</td>\n",
       "      <td>20.4</td>\n",
       "      <td>20.6</td>\n",
       "      <td>20.9</td>\n",
       "      <td>20.5</td>\n",
       "      <td>49.0</td>\n",
       "      <td>0.03</td>\n",
       "      <td>642.0</td>\n",
       "      <td>649.0</td>\n",
       "      <td>1291.0</td>\n",
       "    </tr>\n",
       "    <tr>\n",
       "      <th>44</th>\n",
       "      <td>45.0</td>\n",
       "      <td>1.0</td>\n",
       "      <td>19.5</td>\n",
       "      <td>19.9</td>\n",
       "      <td>20.8</td>\n",
       "      <td>20.6</td>\n",
       "      <td>20.3</td>\n",
       "      <td>44.0</td>\n",
       "      <td>0.03</td>\n",
       "      <td>624.0</td>\n",
       "      <td>614.0</td>\n",
       "      <td>1238.0</td>\n",
       "    </tr>\n",
       "    <tr>\n",
       "      <th>42</th>\n",
       "      <td>43.0</td>\n",
       "      <td>1.0</td>\n",
       "      <td>19.5</td>\n",
       "      <td>19.2</td>\n",
       "      <td>20.1</td>\n",
       "      <td>19.9</td>\n",
       "      <td>19.8</td>\n",
       "      <td>42.0</td>\n",
       "      <td>0.05</td>\n",
       "      <td>623.0</td>\n",
       "      <td>604.0</td>\n",
       "      <td>1228.0</td>\n",
       "    </tr>\n",
       "  </tbody>\n",
       "</table>\n",
       "</div>"
      ],
      "text/plain": [
       "       0  act_Participation  act_English  act_Math  act_Reading  act_Science  \\\n",
       "0    1.0                1.0         18.9      18.4         19.7         19.4   \n",
       "18  19.0                1.0         19.4      18.8         19.8         19.6   \n",
       "49  50.0                1.0         19.7      20.4         20.6         20.9   \n",
       "44  45.0                1.0         19.5      19.9         20.8         20.6   \n",
       "42  43.0                1.0         19.5      19.2         20.1         19.9   \n",
       "\n",
       "    act_Composite     0  sat_Participation  sat_ReadingWriting  sat_Math  \\\n",
       "0            19.2   0.0               0.05               593.0     572.0   \n",
       "18           19.5  18.0               0.04               611.0     586.0   \n",
       "49           20.5  49.0               0.03               642.0     649.0   \n",
       "44           20.3  44.0               0.03               624.0     614.0   \n",
       "42           19.8  42.0               0.05               623.0     604.0   \n",
       "\n",
       "    sat_Total  \n",
       "0      1165.0  \n",
       "18     1198.0  \n",
       "49     1291.0  \n",
       "44     1238.0  \n",
       "42     1228.0  "
      ]
     },
     "execution_count": 286,
     "metadata": {},
     "output_type": "execute_result"
    }
   ],
   "source": [
    "numerged[(numerged.act_Participation >= .5)].head(50).sort_values('act_Participation', ascending=False).head()"
   ]
  },
  {
   "cell_type": "markdown",
   "metadata": {},
   "source": [
    "## Step 3: Visualize the data"
   ]
  },
  {
   "cell_type": "markdown",
   "metadata": {
    "collapsed": true
   },
   "source": [
    "##### 16. Using MatPlotLib and PyPlot, plot the distribution of the Rate columns for both SAT and ACT using histograms. (You should have two histograms. You might find [this link](https://matplotlib.org/users/pyplot_tutorial.html#working-with-multiple-figures-and-axes) helpful in organizing one plot above the other.) "
   ]
  },
  {
   "cell_type": "code",
   "execution_count": 291,
   "metadata": {},
   "outputs": [
    {
     "data": {
      "image/png": "[encoded data removed]",
      "text/plain": [
       "<matplotlib.figure.Figure at 0x2867a881e80>"
      ]
     },
     "metadata": {
      "image/png": {
       "height": 154,
       "width": 377
      }
     },
     "output_type": "display_data"
    },
    {
     "data": {
      "image/png": "[encoded data removed]",
      "text/plain": [
       "<matplotlib.figure.Figure at 0x2867c57f208>"
      ]
     },
     "metadata": {
      "image/png": {
       "height": 154,
       "width": 377
      }
     },
     "output_type": "display_data"
    }
   ],
   "source": [
    "plt.figure(1)\n",
    "plt.subplot(211)\n",
    "plt.hist(merged.act_Participation)\n",
    "plt.title('ACT % Partic.')\n",
    "plt.xlabel(\"Score\")\n",
    "plt.ylabel(\"Count\")\n",
    "plt.show()\n",
    "\n",
    "\n",
    "plt.figure(2)\n",
    "plt.subplot(212)\n",
    "plt.hist(merged.sat_Participation)\n",
    "plt.title('SAT % Partic.')\n",
    "plt.xlabel(\"Score\")\n",
    "plt.ylabel(\"Count\")\n",
    "plt.show()\n"
   ]
  },
  {
   "cell_type": "markdown",
   "metadata": {},
   "source": [
    "##### 17. Plot the Math(s) distributions from both data sets."
   ]
  },
  {
   "cell_type": "code",
   "execution_count": 293,
   "metadata": {},
   "outputs": [
    {
     "data": {
      "image/png": "[encoded data removed]",
      "text/plain": [
       "<matplotlib.figure.Figure at 0x2867b91f208>"
      ]
     },
     "metadata": {
      "image/png": {
       "height": 154,
       "width": 377
      }
     },
     "output_type": "display_data"
    },
    {
     "data": {
      "image/png": "[encoded data removed]",
      "text/plain": [
       "<matplotlib.figure.Figure at 0x2867b917da0>"
      ]
     },
     "metadata": {
      "image/png": {
       "height": 154,
       "width": 377
      }
     },
     "output_type": "display_data"
    }
   ],
   "source": [
    "plt.figure(1)\n",
    "plt.subplot(211)\n",
    "plt.hist(merged.act_Math)\n",
    "plt.title('ACT Math scores')\n",
    "plt.xlabel(\"Score\")\n",
    "plt.ylabel(\"Count\")\n",
    "plt.show()\n",
    "\n",
    "plt.figure(1)\n",
    "plt.subplot(211)\n",
    "plt.hist(merged.act_Math)\n",
    "plt.title('ACT Math scores')\n",
    "plt.xlabel(\"Score\")\n",
    "plt.ylabel(\"Count\")\n",
    "plt.show()\n"
   ]
  },
  {
   "cell_type": "markdown",
   "metadata": {},
   "source": [
    "##### 18. Plot the Verbal distributions from both data sets."
   ]
  },
  {
   "cell_type": "code",
   "execution_count": 294,
   "metadata": {},
   "outputs": [
    {
     "data": {
      "image/png": "[encoded data removed]",
      "text/plain": [
       "<matplotlib.figure.Figure at 0x2867b87a6a0>"
      ]
     },
     "metadata": {
      "image/png": {
       "height": 154,
       "width": 377
      }
     },
     "output_type": "display_data"
    },
    {
     "data": {
      "image/png": "[encoded data removed]",
      "text/plain": [
       "<matplotlib.figure.Figure at 0x2867b82aef0>"
      ]
     },
     "metadata": {
      "image/png": {
       "height": 154,
       "width": 377
      }
     },
     "output_type": "display_data"
    }
   ],
   "source": [
    "plt.figure(1)\n",
    "plt.subplot(211)\n",
    "plt.hist(merged.act_English)\n",
    "plt.title('ACT English scores')\n",
    "plt.xlabel(\"Score\")\n",
    "plt.ylabel(\"Count\")\n",
    "plt.show()\n",
    "\n",
    "plt.figure(1)\n",
    "plt.subplot(211)\n",
    "plt.hist(merged.sat_ReadingWriting)\n",
    "plt.title('SAT English scores')\n",
    "plt.xlabel(\"Score\")\n",
    "plt.ylabel(\"Count\")\n",
    "plt.show()\n"
   ]
  },
  {
   "cell_type": "markdown",
   "metadata": {},
   "source": [
    "##### 19. When we make assumptions about how data are distributed, what is the most common assumption?"
   ]
  },
  {
   "cell_type": "code",
   "execution_count": null,
   "metadata": {
    "collapsed": true
   },
   "outputs": [],
   "source": [
    "Normal Distribution"
   ]
  },
  {
   "cell_type": "markdown",
   "metadata": {},
   "source": [
    "##### 20. Does this assumption hold true for any of our columns? Which?"
   ]
  },
  {
   "cell_type": "code",
   "execution_count": 295,
   "metadata": {
    "scrolled": true
   },
   "outputs": [
    {
     "data": {
      "text/html": [
       "<div>\n",
       "<style>\n",
       "    .dataframe thead tr:only-child th {\n",
       "        text-align: right;\n",
       "    }\n",
       "\n",
       "    .dataframe thead th {\n",
       "        text-align: left;\n",
       "    }\n",
       "\n",
       "    .dataframe tbody tr th {\n",
       "        vertical-align: top;\n",
       "    }\n",
       "</style>\n",
       "<table border=\"1\" class=\"dataframe\">\n",
       "  <thead>\n",
       "    <tr style=\"text-align: right;\">\n",
       "      <th></th>\n",
       "      <th>0</th>\n",
       "      <th>act_Participation</th>\n",
       "      <th>act_English</th>\n",
       "      <th>act_Math</th>\n",
       "      <th>act_Reading</th>\n",
       "      <th>act_Science</th>\n",
       "      <th>act_Composite</th>\n",
       "      <th>0</th>\n",
       "      <th>sat_Participation</th>\n",
       "      <th>sat_ReadingWriting</th>\n",
       "      <th>sat_Math</th>\n",
       "      <th>sat_Total</th>\n",
       "    </tr>\n",
       "  </thead>\n",
       "  <tbody>\n",
       "    <tr>\n",
       "      <th>count</th>\n",
       "      <td>51.000000</td>\n",
       "      <td>51.000000</td>\n",
       "      <td>51.000000</td>\n",
       "      <td>51.000000</td>\n",
       "      <td>51.000000</td>\n",
       "      <td>51.000000</td>\n",
       "      <td>51.000000</td>\n",
       "      <td>51.000000</td>\n",
       "      <td>51.000000</td>\n",
       "      <td>51.000000</td>\n",
       "      <td>51.000000</td>\n",
       "      <td>51.000000</td>\n",
       "    </tr>\n",
       "    <tr>\n",
       "      <th>mean</th>\n",
       "      <td>26.000000</td>\n",
       "      <td>0.652549</td>\n",
       "      <td>20.931373</td>\n",
       "      <td>21.182353</td>\n",
       "      <td>22.013725</td>\n",
       "      <td>21.041176</td>\n",
       "      <td>21.519608</td>\n",
       "      <td>25.000000</td>\n",
       "      <td>0.398039</td>\n",
       "      <td>569.117647</td>\n",
       "      <td>547.627451</td>\n",
       "      <td>1126.098039</td>\n",
       "    </tr>\n",
       "    <tr>\n",
       "      <th>std</th>\n",
       "      <td>14.866069</td>\n",
       "      <td>0.321408</td>\n",
       "      <td>2.353677</td>\n",
       "      <td>1.981989</td>\n",
       "      <td>2.067271</td>\n",
       "      <td>3.182463</td>\n",
       "      <td>2.020695</td>\n",
       "      <td>14.866069</td>\n",
       "      <td>0.352766</td>\n",
       "      <td>45.666901</td>\n",
       "      <td>84.909119</td>\n",
       "      <td>92.494812</td>\n",
       "    </tr>\n",
       "    <tr>\n",
       "      <th>min</th>\n",
       "      <td>1.000000</td>\n",
       "      <td>0.080000</td>\n",
       "      <td>16.300000</td>\n",
       "      <td>18.000000</td>\n",
       "      <td>18.100000</td>\n",
       "      <td>2.300000</td>\n",
       "      <td>17.800000</td>\n",
       "      <td>0.000000</td>\n",
       "      <td>0.020000</td>\n",
       "      <td>482.000000</td>\n",
       "      <td>52.000000</td>\n",
       "      <td>950.000000</td>\n",
       "    </tr>\n",
       "    <tr>\n",
       "      <th>25%</th>\n",
       "      <td>13.500000</td>\n",
       "      <td>0.310000</td>\n",
       "      <td>19.000000</td>\n",
       "      <td>19.400000</td>\n",
       "      <td>20.450000</td>\n",
       "      <td>19.900000</td>\n",
       "      <td>19.800000</td>\n",
       "      <td>12.500000</td>\n",
       "      <td>0.040000</td>\n",
       "      <td>533.500000</td>\n",
       "      <td>522.000000</td>\n",
       "      <td>1055.500000</td>\n",
       "    </tr>\n",
       "    <tr>\n",
       "      <th>50%</th>\n",
       "      <td>26.000000</td>\n",
       "      <td>0.690000</td>\n",
       "      <td>20.700000</td>\n",
       "      <td>20.900000</td>\n",
       "      <td>21.800000</td>\n",
       "      <td>21.300000</td>\n",
       "      <td>21.400000</td>\n",
       "      <td>25.000000</td>\n",
       "      <td>0.380000</td>\n",
       "      <td>559.000000</td>\n",
       "      <td>548.000000</td>\n",
       "      <td>1107.000000</td>\n",
       "    </tr>\n",
       "    <tr>\n",
       "      <th>75%</th>\n",
       "      <td>38.500000</td>\n",
       "      <td>1.000000</td>\n",
       "      <td>23.300000</td>\n",
       "      <td>23.100000</td>\n",
       "      <td>24.150000</td>\n",
       "      <td>22.750000</td>\n",
       "      <td>23.600000</td>\n",
       "      <td>37.500000</td>\n",
       "      <td>0.660000</td>\n",
       "      <td>613.000000</td>\n",
       "      <td>599.000000</td>\n",
       "      <td>1212.000000</td>\n",
       "    </tr>\n",
       "    <tr>\n",
       "      <th>max</th>\n",
       "      <td>51.000000</td>\n",
       "      <td>1.000000</td>\n",
       "      <td>25.500000</td>\n",
       "      <td>25.300000</td>\n",
       "      <td>26.000000</td>\n",
       "      <td>24.900000</td>\n",
       "      <td>25.500000</td>\n",
       "      <td>50.000000</td>\n",
       "      <td>1.000000</td>\n",
       "      <td>644.000000</td>\n",
       "      <td>651.000000</td>\n",
       "      <td>1295.000000</td>\n",
       "    </tr>\n",
       "  </tbody>\n",
       "</table>\n",
       "</div>"
      ],
      "text/plain": [
       "               0  act_Participation  act_English   act_Math  act_Reading  \\\n",
       "count  51.000000          51.000000    51.000000  51.000000    51.000000   \n",
       "mean   26.000000           0.652549    20.931373  21.182353    22.013725   \n",
       "std    14.866069           0.321408     2.353677   1.981989     2.067271   \n",
       "min     1.000000           0.080000    16.300000  18.000000    18.100000   \n",
       "25%    13.500000           0.310000    19.000000  19.400000    20.450000   \n",
       "50%    26.000000           0.690000    20.700000  20.900000    21.800000   \n",
       "75%    38.500000           1.000000    23.300000  23.100000    24.150000   \n",
       "max    51.000000           1.000000    25.500000  25.300000    26.000000   \n",
       "\n",
       "       act_Science  act_Composite          0  sat_Participation  \\\n",
       "count    51.000000      51.000000  51.000000          51.000000   \n",
       "mean     21.041176      21.519608  25.000000           0.398039   \n",
       "std       3.182463       2.020695  14.866069           0.352766   \n",
       "min       2.300000      17.800000   0.000000           0.020000   \n",
       "25%      19.900000      19.800000  12.500000           0.040000   \n",
       "50%      21.300000      21.400000  25.000000           0.380000   \n",
       "75%      22.750000      23.600000  37.500000           0.660000   \n",
       "max      24.900000      25.500000  50.000000           1.000000   \n",
       "\n",
       "       sat_ReadingWriting    sat_Math    sat_Total  \n",
       "count           51.000000   51.000000    51.000000  \n",
       "mean           569.117647  547.627451  1126.098039  \n",
       "std             45.666901   84.909119    92.494812  \n",
       "min            482.000000   52.000000   950.000000  \n",
       "25%            533.500000  522.000000  1055.500000  \n",
       "50%            559.000000  548.000000  1107.000000  \n",
       "75%            613.000000  599.000000  1212.000000  \n",
       "max            644.000000  651.000000  1295.000000  "
      ]
     },
     "execution_count": 295,
     "metadata": {},
     "output_type": "execute_result"
    }
   ],
   "source": [
    "merged.describe()"
   ]
  },
  {
   "cell_type": "code",
   "execution_count": null,
   "metadata": {
    "collapsed": true
   },
   "outputs": [],
   "source": [
    "#The distributions in this data set do not follow a standard dist"
   ]
  },
  {
   "cell_type": "markdown",
   "metadata": {},
   "source": [
    "##### 21. Plot some scatterplots examining relationships between all variables."
   ]
  },
  {
   "cell_type": "code",
   "execution_count": 331,
   "metadata": {
    "scrolled": false
   },
   "outputs": [
    {
     "data": {
      "text/plain": [
       "<matplotlib.axes._subplots.AxesSubplot at 0x2860119c5c0>"
      ]
     },
     "execution_count": 331,
     "metadata": {},
     "output_type": "execute_result"
    },
    {
     "data": {
      "image/png": "[encoded data removed]",
      "text/plain": [
       "<matplotlib.figure.Figure at 0x286000ea278>"
      ]
     },
     "metadata": {
      "image/png": {
       "height": 258,
       "width": 377
      }
     },
     "output_type": "display_data"
    },
    {
     "data": {
      "image/png": "[encoded data removed]",
      "text/plain": [
       "<matplotlib.figure.Figure at 0x286001d5da0>"
      ]
     },
     "metadata": {
      "image/png": {
       "height": 258,
       "width": 382
      }
     },
     "output_type": "display_data"
    },
    {
     "data": {
      "image/png": "[encoded data removed]",
      "text/plain": [
       "<matplotlib.figure.Figure at 0x286002461d0>"
      ]
     },
     "metadata": {
      "image/png": {
       "height": 258,
       "width": 382
      }
     },
     "output_type": "display_data"
    },
    {
     "data": {
      "image/png": "[encoded data removed]",
      "text/plain": [
       "<matplotlib.figure.Figure at 0x28600238ba8>"
      ]
     },
     "metadata": {
      "image/png": {
       "height": 258,
       "width": 382
      }
     },
     "output_type": "display_data"
    },
    {
     "data": {
      "image/png": "[encoded data removed]",
      "text/plain": [
       "<matplotlib.figure.Figure at 0x286002d7d68>"
      ]
     },
     "metadata": {
      "image/png": {
       "height": 258,
       "width": 377
      }
     },
     "output_type": "display_data"
    },
    {
     "data": {
      "image/png": "[encoded data removed]",
      "text/plain": [
       "<matplotlib.figure.Figure at 0x2860033d588>"
      ]
     },
     "metadata": {
      "image/png": {
       "height": 258,
       "width": 377
      }
     },
     "output_type": "display_data"
    },
    {
     "data": {
      "image/png": "[encoded data removed]",
      "text/plain": [
       "<matplotlib.figure.Figure at 0x286002fe828>"
      ]
     },
     "metadata": {
      "image/png": {
       "height": 258,
       "width": 380
      }
     },
     "output_type": "display_data"
    },
    {
     "data": {
      "image/png": "[encoded data removed]",
      "text/plain": [
       "<matplotlib.figure.Figure at 0x28601187da0>"
      ]
     },
     "metadata": {
      "image/png": {
       "height": 258,
       "width": 377
      }
     },
     "output_type": "display_data"
    }
   ],
   "source": [
    "merged.plot.scatter('act_English', 'act_Math', s=None, c=None)\n",
    "merged.plot.scatter('act_Math', 'sat_Math', s=None, c=None)\n",
    "merged.plot.scatter('act_English', 'sat_ReadingWriting', s=None, c=None)\n",
    "merged.plot.scatter('sat_ReadingWriting', 'sat_Math', s=None, c=None)\n",
    "\n",
    "merged.plot.scatter('act_English', 'act_Math', s=None, c=None)\n",
    "merged.plot.scatter('act_Science', 'act_Math', s=None, c=None)\n",
    "merged.plot.scatter('sat_Participation', 'act_Participation', s=None, c=None)\n",
    "merged.plot.scatter('sat_Total', 'act_Composite', s=None, c=None)\n"
   ]
  },
  {
   "cell_type": "markdown",
   "metadata": {},
   "source": [
    "##### 22. Are there any interesting relationships to note?"
   ]
  },
  {
   "cell_type": "markdown",
   "metadata": {
    "collapsed": true
   },
   "source": [
    "1. There is a relationship between high and low performance across categories (ie. success in one subject area tends to translate into success in others.  However the relationship is stronger between math and science within a test type (act/sat) than between them.  In other words performing well in math act predicted science act scores better than math sat score.\n",
    "\n",
    "2. There is also appears to be a relationship between act composite scores and sat totals.  However this relatipnship is not as strong as I would have expected\n",
    "\n",
    "3. As SAT participation rises,  ACT participation drops.  This is surprising,  but there are some good explanations that can be inferred, such as a state clearly favoring one test over another or requiring one and not another"
   ]
  },
  {
   "cell_type": "markdown",
   "metadata": {},
   "source": [
    "##### 23. Create box plots for each variable. "
   ]
  },
  {
   "cell_type": "code",
   "execution_count": 316,
   "metadata": {},
   "outputs": [
    {
     "data": {
      "text/plain": [
       "{'boxes': [<matplotlib.lines.Line2D at 0x2867c585c88>],\n",
       " 'caps': [<matplotlib.lines.Line2D at 0x2867b929128>,\n",
       "  <matplotlib.lines.Line2D at 0x2867b929240>],\n",
       " 'fliers': [<matplotlib.lines.Line2D at 0x2867c6740f0>],\n",
       " 'means': [],\n",
       " 'medians': [<matplotlib.lines.Line2D at 0x2867b929080>],\n",
       " 'whiskers': [<matplotlib.lines.Line2D at 0x2867c5854a8>,\n",
       "  <matplotlib.lines.Line2D at 0x2867c585240>]}"
      ]
     },
     "execution_count": 316,
     "metadata": {},
     "output_type": "execute_result"
    },
    {
     "data": {
      "image/png": "[encoded data removed]",
      "text/plain": [
       "<matplotlib.figure.Figure at 0x2867c6cbdd8>"
      ]
     },
     "metadata": {
      "image/png": {
       "height": 244,
       "width": 366
      }
     },
     "output_type": "display_data"
    }
   ],
   "source": [
    "plt.boxplot(act.Participation)"
   ]
  },
  {
   "cell_type": "code",
   "execution_count": 318,
   "metadata": {
    "collapsed": true
   },
   "outputs": [
    {
     "data": {
      "text/plain": [
       "{'boxes': [<matplotlib.lines.Line2D at 0x2867cc04f98>],\n",
       " 'caps': [<matplotlib.lines.Line2D at 0x2867cc3a828>,\n",
       "  <matplotlib.lines.Line2D at 0x2867cc3a4e0>],\n",
       " 'fliers': [<matplotlib.lines.Line2D at 0x2867cfde240>],\n",
       " 'means': [],\n",
       " 'medians': [<matplotlib.lines.Line2D at 0x2867d019898>],\n",
       " 'whiskers': [<matplotlib.lines.Line2D at 0x2867cc04240>,\n",
       "  <matplotlib.lines.Line2D at 0x2867cc3a5f8>]}"
      ]
     },
     "execution_count": 318,
     "metadata": {},
     "output_type": "execute_result"
    },
    {
     "data": {
      "image/png": "[encoded data removed]",
      "text/plain": [
       "<matplotlib.figure.Figure at 0x2867cbe9128>"
      ]
     },
     "metadata": {
      "image/png": {
       "height": 244,
       "width": 363
      }
     },
     "output_type": "display_data"
    }
   ],
   "source": [
    "plt.boxplot(act.English)"
   ]
  },
  {
   "cell_type": "code",
   "execution_count": 319,
   "metadata": {
    "collapsed": true
   },
   "outputs": [
    {
     "data": {
      "text/plain": [
       "{'boxes': [<matplotlib.lines.Line2D at 0x2867cada860>],\n",
       " 'caps': [<matplotlib.lines.Line2D at 0x2867cadad68>,\n",
       "  <matplotlib.lines.Line2D at 0x2867a5cdc18>],\n",
       " 'fliers': [<matplotlib.lines.Line2D at 0x2867a5cddd8>],\n",
       " 'means': [],\n",
       " 'medians': [<matplotlib.lines.Line2D at 0x2867a5cdac8>],\n",
       " 'whiskers': [<matplotlib.lines.Line2D at 0x2867cadaef0>,\n",
       "  <matplotlib.lines.Line2D at 0x2867cada198>]}"
      ]
     },
     "execution_count": 319,
     "metadata": {},
     "output_type": "execute_result"
    },
    {
     "data": {
      "image/png": "[encoded data removed]",
      "text/plain": [
       "<matplotlib.figure.Figure at 0x2867cc54588>"
      ]
     },
     "metadata": {
      "image/png": {
       "height": 244,
       "width": 363
      }
     },
     "output_type": "display_data"
    }
   ],
   "source": [
    "plt.boxplot(act.Math)"
   ]
  },
  {
   "cell_type": "code",
   "execution_count": 320,
   "metadata": {
    "collapsed": true
   },
   "outputs": [
    {
     "data": {
      "text/plain": [
       "{'boxes': [<matplotlib.lines.Line2D at 0x2867b7be518>],\n",
       " 'caps': [<matplotlib.lines.Line2D at 0x2867b7be978>,\n",
       "  <matplotlib.lines.Line2D at 0x2867c5ae828>],\n",
       " 'fliers': [<matplotlib.lines.Line2D at 0x2867c5ae0b8>],\n",
       " 'means': [],\n",
       " 'medians': [<matplotlib.lines.Line2D at 0x2867c5aebe0>],\n",
       " 'whiskers': [<matplotlib.lines.Line2D at 0x2867b7be550>,\n",
       "  <matplotlib.lines.Line2D at 0x2867b7be3c8>]}"
      ]
     },
     "execution_count": 320,
     "metadata": {},
     "output_type": "execute_result"
    },
    {
     "data": {
      "image/png": "[encoded data removed]",
      "text/plain": [
       "<matplotlib.figure.Figure at 0x2867cafa9b0>"
      ]
     },
     "metadata": {
      "image/png": {
       "height": 244,
       "width": 363
      }
     },
     "output_type": "display_data"
    }
   ],
   "source": [
    "plt.boxplot(act.Reading)"
   ]
  },
  {
   "cell_type": "code",
   "execution_count": 321,
   "metadata": {
    "collapsed": true
   },
   "outputs": [
    {
     "data": {
      "text/plain": [
       "{'boxes': [<matplotlib.lines.Line2D at 0x2867c68b2b0>],\n",
       " 'caps': [<matplotlib.lines.Line2D at 0x2867cf11a58>,\n",
       "  <matplotlib.lines.Line2D at 0x2867cf11320>],\n",
       " 'fliers': [<matplotlib.lines.Line2D at 0x2867cef27f0>],\n",
       " 'means': [],\n",
       " 'medians': [<matplotlib.lines.Line2D at 0x2867cef2ef0>],\n",
       " 'whiskers': [<matplotlib.lines.Line2D at 0x2867c68b0f0>,\n",
       "  <matplotlib.lines.Line2D at 0x2867cf11da0>]}"
      ]
     },
     "execution_count": 321,
     "metadata": {},
     "output_type": "execute_result"
    },
    {
     "data": {
      "image/png": "[encoded data removed]",
      "text/plain": [
       "<matplotlib.figure.Figure at 0x2867cb021d0>"
      ]
     },
     "metadata": {
      "image/png": {
       "height": 244,
       "width": 363
      }
     },
     "output_type": "display_data"
    }
   ],
   "source": [
    "plt.boxplot(act.Science)"
   ]
  },
  {
   "cell_type": "code",
   "execution_count": 322,
   "metadata": {
    "collapsed": true
   },
   "outputs": [
    {
     "data": {
      "text/plain": [
       "{'boxes': [<matplotlib.lines.Line2D at 0x2867c9cbc88>],\n",
       " 'caps': [<matplotlib.lines.Line2D at 0x2867c994898>,\n",
       "  <matplotlib.lines.Line2D at 0x2867c994d30>],\n",
       " 'fliers': [<matplotlib.lines.Line2D at 0x2867cf076a0>],\n",
       " 'means': [],\n",
       " 'medians': [<matplotlib.lines.Line2D at 0x2867cf07208>],\n",
       " 'whiskers': [<matplotlib.lines.Line2D at 0x2867c9cbe48>,\n",
       "  <matplotlib.lines.Line2D at 0x2867c994400>]}"
      ]
     },
     "execution_count": 322,
     "metadata": {},
     "output_type": "execute_result"
    },
    {
     "data": {
      "image/png": "[encoded data removed]",
      "text/plain": [
       "<matplotlib.figure.Figure at 0x2867c4c49b0>"
      ]
     },
     "metadata": {
      "image/png": {
       "height": 244,
       "width": 363
      }
     },
     "output_type": "display_data"
    }
   ],
   "source": [
    "plt.boxplot(act.Composite)"
   ]
  },
  {
   "cell_type": "code",
   "execution_count": 323,
   "metadata": {
    "collapsed": true
   },
   "outputs": [
    {
     "data": {
      "text/plain": [
       "{'boxes': [<matplotlib.lines.Line2D at 0x286003fc4a8>],\n",
       " 'caps': [<matplotlib.lines.Line2D at 0x286004030b8>,\n",
       "  <matplotlib.lines.Line2D at 0x28600403550>],\n",
       " 'fliers': [<matplotlib.lines.Line2D at 0x28600403e80>],\n",
       " 'means': [],\n",
       " 'medians': [<matplotlib.lines.Line2D at 0x286004039e8>],\n",
       " 'whiskers': [<matplotlib.lines.Line2D at 0x286003fc668>,\n",
       "  <matplotlib.lines.Line2D at 0x286003fcbe0>]}"
      ]
     },
     "execution_count": 323,
     "metadata": {},
     "output_type": "execute_result"
    },
    {
     "data": {
      "image/png": "[encoded data removed]",
      "text/plain": [
       "<matplotlib.figure.Figure at 0x2867cb540b8>"
      ]
     },
     "metadata": {
      "image/png": {
       "height": 244,
       "width": 366
      }
     },
     "output_type": "display_data"
    }
   ],
   "source": [
    "plt.boxplot(sat.Participation)"
   ]
  },
  {
   "cell_type": "code",
   "execution_count": 324,
   "metadata": {
    "collapsed": true
   },
   "outputs": [
    {
     "data": {
      "text/plain": [
       "{'boxes': [<matplotlib.lines.Line2D at 0x286005c70b8>],\n",
       " 'caps': [<matplotlib.lines.Line2D at 0x286005c7c88>,\n",
       "  <matplotlib.lines.Line2D at 0x286005cd160>],\n",
       " 'fliers': [<matplotlib.lines.Line2D at 0x286005cda90>],\n",
       " 'means': [],\n",
       " 'medians': [<matplotlib.lines.Line2D at 0x286005cd5f8>],\n",
       " 'whiskers': [<matplotlib.lines.Line2D at 0x286005c7278>,\n",
       "  <matplotlib.lines.Line2D at 0x286005c77f0>]}"
      ]
     },
     "execution_count": 324,
     "metadata": {},
     "output_type": "execute_result"
    },
    {
     "data": {
      "image/png": "[encoded data removed]",
      "text/plain": [
       "<matplotlib.figure.Figure at 0x286004185f8>"
      ]
     },
     "metadata": {
      "image/png": {
       "height": 244,
       "width": 369
      }
     },
     "output_type": "display_data"
    }
   ],
   "source": [
    "plt.boxplot(sat['Evidence-Based Reading and Writing'])"
   ]
  },
  {
   "cell_type": "code",
   "execution_count": 325,
   "metadata": {
    "collapsed": true
   },
   "outputs": [
    {
     "data": {
      "text/plain": [
       "{'boxes': [<matplotlib.lines.Line2D at 0x286007c4e10>],\n",
       " 'caps': [<matplotlib.lines.Line2D at 0x286007d0a20>,\n",
       "  <matplotlib.lines.Line2D at 0x286007d0eb8>],\n",
       " 'fliers': [<matplotlib.lines.Line2D at 0x286007d6828>],\n",
       " 'means': [],\n",
       " 'medians': [<matplotlib.lines.Line2D at 0x286007d6390>],\n",
       " 'whiskers': [<matplotlib.lines.Line2D at 0x286007c4fd0>,\n",
       "  <matplotlib.lines.Line2D at 0x286007d0588>]}"
      ]
     },
     "execution_count": 325,
     "metadata": {},
     "output_type": "execute_result"
    },
    {
     "data": {
      "image/png": "[encoded data removed]",
      "text/plain": [
       "<matplotlib.figure.Figure at 0x286005dd390>"
      ]
     },
     "metadata": {
      "image/png": {
       "height": 244,
       "width": 369
      }
     },
     "output_type": "display_data"
    }
   ],
   "source": [
    "plt.boxplot(sat.Math)"
   ]
  },
  {
   "cell_type": "code",
   "execution_count": 326,
   "metadata": {
    "collapsed": true
   },
   "outputs": [
    {
     "data": {
      "text/plain": [
       "{'boxes': [<matplotlib.lines.Line2D at 0x28600828ac8>],\n",
       " 'caps': [<matplotlib.lines.Line2D at 0x286008316d8>,\n",
       "  <matplotlib.lines.Line2D at 0x28600831b70>],\n",
       " 'fliers': [<matplotlib.lines.Line2D at 0x2860083a4e0>],\n",
       " 'means': [],\n",
       " 'medians': [<matplotlib.lines.Line2D at 0x2860083a048>],\n",
       " 'whiskers': [<matplotlib.lines.Line2D at 0x28600828c88>,\n",
       "  <matplotlib.lines.Line2D at 0x28600831240>]}"
      ]
     },
     "execution_count": 326,
     "metadata": {},
     "output_type": "execute_result"
    },
    {
     "data": {
      "image/png": "[encoded data removed]",
      "text/plain": [
       "<matplotlib.figure.Figure at 0x286007e7048>"
      ]
     },
     "metadata": {
      "image/png": {
       "height": 244,
       "width": 374
      }
     },
     "output_type": "display_data"
    }
   ],
   "source": [
    "plt.boxplot(sat.Total)"
   ]
  },
  {
   "cell_type": "markdown",
   "metadata": {},
   "source": [
    "##### BONUS: Using Tableau, create a heat map for each variable using a map of the US. "
   ]
  },
  {
   "cell_type": "code",
   "execution_count": null,
   "metadata": {
    "collapsed": true
   },
   "outputs": [],
   "source": []
  },
  {
   "cell_type": "markdown",
   "metadata": {},
   "source": [
    "## Step 4: Descriptive and Inferential Statistics"
   ]
  },
  {
   "cell_type": "markdown",
   "metadata": {},
   "source": [
    "##### 24. Summarize each distribution. As data scientists, be sure to back up these summaries with statistics. (Hint: What are the three things we care about when describing distributions?)"
   ]
  },
  {
   "cell_type": "code",
   "execution_count": 221,
   "metadata": {},
   "outputs": [
    {
     "data": {
      "text/html": [
       "<div>\n",
       "<style>\n",
       "    .dataframe thead tr:only-child th {\n",
       "        text-align: right;\n",
       "    }\n",
       "\n",
       "    .dataframe thead th {\n",
       "        text-align: left;\n",
       "    }\n",
       "\n",
       "    .dataframe tbody tr th {\n",
       "        vertical-align: top;\n",
       "    }\n",
       "</style>\n",
       "<table border=\"1\" class=\"dataframe\">\n",
       "  <thead>\n",
       "    <tr style=\"text-align: right;\">\n",
       "      <th></th>\n",
       "      <th>0</th>\n",
       "      <th>act_Participation</th>\n",
       "      <th>act_English</th>\n",
       "      <th>act_Math</th>\n",
       "      <th>act_Reading</th>\n",
       "      <th>act_Science</th>\n",
       "      <th>act_Composite</th>\n",
       "      <th>0</th>\n",
       "      <th>sat_Participation</th>\n",
       "      <th>sat_ReadingWriting</th>\n",
       "      <th>sat_Math</th>\n",
       "      <th>sat_Total</th>\n",
       "    </tr>\n",
       "  </thead>\n",
       "  <tbody>\n",
       "    <tr>\n",
       "      <th>count</th>\n",
       "      <td>51.000000</td>\n",
       "      <td>51.000000</td>\n",
       "      <td>51.000000</td>\n",
       "      <td>51.000000</td>\n",
       "      <td>51.000000</td>\n",
       "      <td>51.000000</td>\n",
       "      <td>51.000000</td>\n",
       "      <td>51.000000</td>\n",
       "      <td>51.000000</td>\n",
       "      <td>51.000000</td>\n",
       "      <td>51.000000</td>\n",
       "      <td>51.000000</td>\n",
       "    </tr>\n",
       "    <tr>\n",
       "      <th>mean</th>\n",
       "      <td>26.000000</td>\n",
       "      <td>0.652549</td>\n",
       "      <td>20.931373</td>\n",
       "      <td>21.182353</td>\n",
       "      <td>22.013725</td>\n",
       "      <td>21.041176</td>\n",
       "      <td>21.519608</td>\n",
       "      <td>25.000000</td>\n",
       "      <td>0.398039</td>\n",
       "      <td>569.117647</td>\n",
       "      <td>547.627451</td>\n",
       "      <td>1126.098039</td>\n",
       "    </tr>\n",
       "    <tr>\n",
       "      <th>std</th>\n",
       "      <td>14.866069</td>\n",
       "      <td>0.321408</td>\n",
       "      <td>2.353677</td>\n",
       "      <td>1.981989</td>\n",
       "      <td>2.067271</td>\n",
       "      <td>3.182463</td>\n",
       "      <td>2.020695</td>\n",
       "      <td>14.866069</td>\n",
       "      <td>0.352766</td>\n",
       "      <td>45.666901</td>\n",
       "      <td>84.909119</td>\n",
       "      <td>92.494812</td>\n",
       "    </tr>\n",
       "    <tr>\n",
       "      <th>min</th>\n",
       "      <td>1.000000</td>\n",
       "      <td>0.080000</td>\n",
       "      <td>16.300000</td>\n",
       "      <td>18.000000</td>\n",
       "      <td>18.100000</td>\n",
       "      <td>2.300000</td>\n",
       "      <td>17.800000</td>\n",
       "      <td>0.000000</td>\n",
       "      <td>0.020000</td>\n",
       "      <td>482.000000</td>\n",
       "      <td>52.000000</td>\n",
       "      <td>950.000000</td>\n",
       "    </tr>\n",
       "    <tr>\n",
       "      <th>25%</th>\n",
       "      <td>13.500000</td>\n",
       "      <td>0.310000</td>\n",
       "      <td>19.000000</td>\n",
       "      <td>19.400000</td>\n",
       "      <td>20.450000</td>\n",
       "      <td>19.900000</td>\n",
       "      <td>19.800000</td>\n",
       "      <td>12.500000</td>\n",
       "      <td>0.040000</td>\n",
       "      <td>533.500000</td>\n",
       "      <td>522.000000</td>\n",
       "      <td>1055.500000</td>\n",
       "    </tr>\n",
       "    <tr>\n",
       "      <th>50%</th>\n",
       "      <td>26.000000</td>\n",
       "      <td>0.690000</td>\n",
       "      <td>20.700000</td>\n",
       "      <td>20.900000</td>\n",
       "      <td>21.800000</td>\n",
       "      <td>21.300000</td>\n",
       "      <td>21.400000</td>\n",
       "      <td>25.000000</td>\n",
       "      <td>0.380000</td>\n",
       "      <td>559.000000</td>\n",
       "      <td>548.000000</td>\n",
       "      <td>1107.000000</td>\n",
       "    </tr>\n",
       "    <tr>\n",
       "      <th>75%</th>\n",
       "      <td>38.500000</td>\n",
       "      <td>1.000000</td>\n",
       "      <td>23.300000</td>\n",
       "      <td>23.100000</td>\n",
       "      <td>24.150000</td>\n",
       "      <td>22.750000</td>\n",
       "      <td>23.600000</td>\n",
       "      <td>37.500000</td>\n",
       "      <td>0.660000</td>\n",
       "      <td>613.000000</td>\n",
       "      <td>599.000000</td>\n",
       "      <td>1212.000000</td>\n",
       "    </tr>\n",
       "    <tr>\n",
       "      <th>max</th>\n",
       "      <td>51.000000</td>\n",
       "      <td>1.000000</td>\n",
       "      <td>25.500000</td>\n",
       "      <td>25.300000</td>\n",
       "      <td>26.000000</td>\n",
       "      <td>24.900000</td>\n",
       "      <td>25.500000</td>\n",
       "      <td>50.000000</td>\n",
       "      <td>1.000000</td>\n",
       "      <td>644.000000</td>\n",
       "      <td>651.000000</td>\n",
       "      <td>1295.000000</td>\n",
       "    </tr>\n",
       "  </tbody>\n",
       "</table>\n",
       "</div>"
      ],
      "text/plain": [
       "               0  act_Participation  act_English   act_Math  act_Reading  \\\n",
       "count  51.000000          51.000000    51.000000  51.000000    51.000000   \n",
       "mean   26.000000           0.652549    20.931373  21.182353    22.013725   \n",
       "std    14.866069           0.321408     2.353677   1.981989     2.067271   \n",
       "min     1.000000           0.080000    16.300000  18.000000    18.100000   \n",
       "25%    13.500000           0.310000    19.000000  19.400000    20.450000   \n",
       "50%    26.000000           0.690000    20.700000  20.900000    21.800000   \n",
       "75%    38.500000           1.000000    23.300000  23.100000    24.150000   \n",
       "max    51.000000           1.000000    25.500000  25.300000    26.000000   \n",
       "\n",
       "       act_Science  act_Composite          0  sat_Participation  \\\n",
       "count    51.000000      51.000000  51.000000          51.000000   \n",
       "mean     21.041176      21.519608  25.000000           0.398039   \n",
       "std       3.182463       2.020695  14.866069           0.352766   \n",
       "min       2.300000      17.800000   0.000000           0.020000   \n",
       "25%      19.900000      19.800000  12.500000           0.040000   \n",
       "50%      21.300000      21.400000  25.000000           0.380000   \n",
       "75%      22.750000      23.600000  37.500000           0.660000   \n",
       "max      24.900000      25.500000  50.000000           1.000000   \n",
       "\n",
       "       sat_ReadingWriting    sat_Math    sat_Total  \n",
       "count           51.000000   51.000000    51.000000  \n",
       "mean           569.117647  547.627451  1126.098039  \n",
       "std             45.666901   84.909119    92.494812  \n",
       "min            482.000000   52.000000   950.000000  \n",
       "25%            533.500000  522.000000  1055.500000  \n",
       "50%            559.000000  548.000000  1107.000000  \n",
       "75%            613.000000  599.000000  1212.000000  \n",
       "max            644.000000  651.000000  1295.000000  "
      ]
     },
     "execution_count": 221,
     "metadata": {},
     "output_type": "execute_result"
    }
   ],
   "source": [
    "merged.describe()"
   ]
  },
  {
   "cell_type": "code",
   "execution_count": 220,
   "metadata": {
    "collapsed": true
   },
   "outputs": [
    {
     "name": "stdout",
     "output_type": "stream",
     "text": [
      "Median 0.38\n",
      "Mean 0.39803921568627454\n",
      "Mode 0    0.03\n",
      "dtype: float64\n",
      "Std 0.35276632270013036\n",
      "AxesSubplot(0.125,0.125;0.775x0.755)\n"
     ]
    },
    {
     "data": {
      "image/png": "[encoded data removed]",
      "text/plain": [
       "<matplotlib.figure.Figure at 0x2867c5855f8>"
      ]
     },
     "metadata": {
      "image/png": {
       "height": 244,
       "width": 385
      }
     },
     "output_type": "display_data"
    }
   ],
   "source": [
    "\n",
    "\n",
    "print('Median', merged.sat_Participation.median())\n",
    "print('Mean', merged.sat_Participation.mean())\n",
    "print('Mode', merged.sat_Participation.mode())\n",
    "print('Std', merged.sat_Participation.std())\n",
    "print(merged.sat_Participation.plot.hist())\n",
    "\n"
   ]
  },
  {
   "cell_type": "markdown",
   "metadata": {},
   "source": [
    "##### 25. Summarize each relationship. Be sure to back up these summaries with statistics."
   ]
  },
  {
   "cell_type": "code",
   "execution_count": null,
   "metadata": {
    "collapsed": true
   },
   "outputs": [],
   "source": [
    "#choose what you want to compare,  describe the ones in #16\n",
    "#as scores in one subject go up,  the go up in another\n",
    "#as participation goes up,  scores go down"
   ]
  },
  {
   "cell_type": "markdown",
   "metadata": {},
   "source": [
    "##### 26. Execute a hypothesis test comparing the SAT and ACT participation rates. Use $\\alpha = 0.05$. Be sure to interpret your results."
   ]
  },
  {
   "cell_type": "code",
   "execution_count": 247,
   "metadata": {},
   "outputs": [
    {
     "data": {
      "text/plain": [
       "Ttest_indResult(statistic=-3.8085778908170544, pvalue=0.00024134203698662353)"
      ]
     },
     "execution_count": 247,
     "metadata": {},
     "output_type": "execute_result"
    }
   ],
   "source": [
    "# HYPOTHESIS TEST:\n",
    "# Ho: mu ACT participation == mu SAT participation\n",
    "# Ha: mu ACT participation != mu SAT participation\n",
    "\n",
    "stats.ttest_ind(merged.sat_Participation,merged.act_Participation)\n",
    "\n",
    "# reject the null because the p value is lower than .05 (alpha).  \n",
    "# Therefore the ACT participation is not equal to the SAT participation\n",
    "# the -3.8 denotes that they are nearly 4 standard deviations away.\n",
    "# in other words the participations vary to a large degree in the relationship\n",
    "# between each other"
   ]
  },
  {
   "cell_type": "markdown",
   "metadata": {},
   "source": [
    "##### 27. Generate and interpret 95% confidence intervals for SAT and ACT participation rates."
   ]
  },
  {
   "cell_type": "code",
   "execution_count": 253,
   "metadata": {},
   "outputs": [
    {
     "name": "stdout",
     "output_type": "stream",
     "text": [
      "0.39803921568627454\n"
     ]
    },
    {
     "data": {
      "text/plain": [
       "(-0.31051279537380627, 1.1065912267463553)"
      ]
     },
     "execution_count": 253,
     "metadata": {},
     "output_type": "execute_result"
    }
   ],
   "source": [
    "#[point estimate]±[multiplier]×[standard error]\n",
    "#[mean]=-[1.96]X[stderror]\n",
    "print(merged.sat_Participation.mean())\n",
    "stats.t.interval(0.95,\n",
    "                 len(merged.sat_Participation) - 1,\n",
    "                 loc = np.mean(merged.sat_Participation),\n",
    "                 scale = np.std(merged.sat_Participation,  ddof = 1))#ddof will always be 1 (setting degrees of freedom"
   ]
  },
  {
   "cell_type": "code",
   "execution_count": 251,
   "metadata": {},
   "outputs": [
    {
     "data": {
      "text/plain": [
       "(0.0069812093585757129, 1.2981168298571104)"
      ]
     },
     "execution_count": 251,
     "metadata": {},
     "output_type": "execute_result"
    }
   ],
   "source": [
    "stats.t.interval(0.95,\n",
    "                 len(merged.act_Participation) - 1,\n",
    "                 loc = np.mean(merged.act_Participation),\n",
    "                 scale = np.std(merged.act_Participation,  ddof = 1))#ddof will always be 1 (setting degrees of freedom)"
   ]
  },
  {
   "cell_type": "code",
   "execution_count": null,
   "metadata": {
    "collapsed": true
   },
   "outputs": [],
   "source": [
    "# There was a large degreee of variablity between within each\n",
    "# The range to acheive 95% confidence,  due to the large variability\n",
    "# is outside the possible values. While this seems illogical it is \n",
    "# simply an indicator that we can have very little confidence predicting \n",
    "# a given states'participation at the 95% level"
   ]
  },
  {
   "cell_type": "markdown",
   "metadata": {},
   "source": [
    "##### 28. Given your answer to 26, was your answer to 27 surprising? Why?"
   ]
  },
  {
   "cell_type": "code",
   "execution_count": null,
   "metadata": {
    "collapsed": true
   },
   "outputs": [],
   "source": [
    "# This was expected in that we see very different confidence intervals"
   ]
  },
  {
   "cell_type": "markdown",
   "metadata": {},
   "source": [
    "##### 29. Is it appropriate to generate correlation between SAT and ACT math scores? Why?"
   ]
  },
  {
   "cell_type": "code",
   "execution_count": null,
   "metadata": {
    "collapsed": true
   },
   "outputs": [],
   "source": [
    "# Its appropriate to generate a correlation in order to see \n",
    "# if there is a relation per state you'd want to know that and then seek an explanation\n",
    "# in this case there isn't a correlation, which is good to know\n",
    "# and could lead to a conclusion like: \"If sat is required its all students\n",
    "# whereas the act isn't required and then only sample college ready students"
   ]
  },
  {
   "cell_type": "code",
   "execution_count": 256,
   "metadata": {
    "scrolled": false
   },
   "outputs": [
    {
     "data": {
      "text/plain": [
       "Ttest_indResult(statistic=44.26551854301654, pvalue=1.6750567328477293e-67)"
      ]
     },
     "execution_count": 256,
     "metadata": {},
     "output_type": "execute_result"
    }
   ],
   "source": [
    "stats.ttest_ind(merged.sat_Math,merged.act_Math)"
   ]
  },
  {
   "cell_type": "code",
   "execution_count": 267,
   "metadata": {
    "collapsed": true
   },
   "outputs": [
    {
     "data": {
      "text/html": [
       "<div>\n",
       "<style>\n",
       "    .dataframe thead tr:only-child th {\n",
       "        text-align: right;\n",
       "    }\n",
       "\n",
       "    .dataframe thead th {\n",
       "        text-align: left;\n",
       "    }\n",
       "\n",
       "    .dataframe tbody tr th {\n",
       "        vertical-align: top;\n",
       "    }\n",
       "</style>\n",
       "<table border=\"1\" class=\"dataframe\">\n",
       "  <thead>\n",
       "    <tr style=\"text-align: right;\">\n",
       "      <th></th>\n",
       "      <th>State</th>\n",
       "      <th>act_Math</th>\n",
       "      <th>sat_Math</th>\n",
       "    </tr>\n",
       "  </thead>\n",
       "  <tbody>\n",
       "    <tr>\n",
       "      <th>28</th>\n",
       "      <td>Nevada</td>\n",
       "      <td>18.0</td>\n",
       "      <td>553</td>\n",
       "    </tr>\n",
       "    <tr>\n",
       "      <th>24</th>\n",
       "      <td>Mississippi</td>\n",
       "      <td>18.1</td>\n",
       "      <td>607</td>\n",
       "    </tr>\n",
       "    <tr>\n",
       "      <th>0</th>\n",
       "      <td>Alabama</td>\n",
       "      <td>18.4</td>\n",
       "      <td>572</td>\n",
       "    </tr>\n",
       "    <tr>\n",
       "      <th>40</th>\n",
       "      <td>South Carolina</td>\n",
       "      <td>18.6</td>\n",
       "      <td>521</td>\n",
       "    </tr>\n",
       "    <tr>\n",
       "      <th>36</th>\n",
       "      <td>Oklahoma</td>\n",
       "      <td>18.8</td>\n",
       "      <td>517</td>\n",
       "    </tr>\n",
       "    <tr>\n",
       "      <th>18</th>\n",
       "      <td>Louisiana</td>\n",
       "      <td>18.8</td>\n",
       "      <td>586</td>\n",
       "    </tr>\n",
       "    <tr>\n",
       "      <th>3</th>\n",
       "      <td>Arkansas</td>\n",
       "      <td>19.0</td>\n",
       "      <td>594</td>\n",
       "    </tr>\n",
       "    <tr>\n",
       "      <th>42</th>\n",
       "      <td>Tennessee</td>\n",
       "      <td>19.2</td>\n",
       "      <td>604</td>\n",
       "    </tr>\n",
       "    <tr>\n",
       "      <th>11</th>\n",
       "      <td>Hawaii</td>\n",
       "      <td>19.2</td>\n",
       "      <td>541</td>\n",
       "    </tr>\n",
       "    <tr>\n",
       "      <th>33</th>\n",
       "      <td>North Carolina</td>\n",
       "      <td>19.3</td>\n",
       "      <td>535</td>\n",
       "    </tr>\n",
       "    <tr>\n",
       "      <th>48</th>\n",
       "      <td>West Virginia</td>\n",
       "      <td>19.4</td>\n",
       "      <td>528</td>\n",
       "    </tr>\n",
       "    <tr>\n",
       "      <th>31</th>\n",
       "      <td>New Mexico</td>\n",
       "      <td>19.4</td>\n",
       "      <td>561</td>\n",
       "    </tr>\n",
       "    <tr>\n",
       "      <th>9</th>\n",
       "      <td>Florida</td>\n",
       "      <td>19.4</td>\n",
       "      <td>497</td>\n",
       "    </tr>\n",
       "    <tr>\n",
       "      <th>17</th>\n",
       "      <td>Kentucky</td>\n",
       "      <td>19.4</td>\n",
       "      <td>616</td>\n",
       "    </tr>\n",
       "    <tr>\n",
       "      <th>50</th>\n",
       "      <td>Wyoming</td>\n",
       "      <td>19.8</td>\n",
       "      <td>604</td>\n",
       "    </tr>\n",
       "    <tr>\n",
       "      <th>1</th>\n",
       "      <td>Alaska</td>\n",
       "      <td>19.8</td>\n",
       "      <td>533</td>\n",
       "    </tr>\n",
       "    <tr>\n",
       "      <th>2</th>\n",
       "      <td>Arizona</td>\n",
       "      <td>19.8</td>\n",
       "      <td>553</td>\n",
       "    </tr>\n",
       "    <tr>\n",
       "      <th>25</th>\n",
       "      <td>Missouri</td>\n",
       "      <td>19.9</td>\n",
       "      <td>631</td>\n",
       "    </tr>\n",
       "    <tr>\n",
       "      <th>44</th>\n",
       "      <td>Utah</td>\n",
       "      <td>19.9</td>\n",
       "      <td>614</td>\n",
       "    </tr>\n",
       "    <tr>\n",
       "      <th>26</th>\n",
       "      <td>Montana</td>\n",
       "      <td>20.2</td>\n",
       "      <td>591</td>\n",
       "    </tr>\n",
       "    <tr>\n",
       "      <th>5</th>\n",
       "      <td>Colorado</td>\n",
       "      <td>20.3</td>\n",
       "      <td>595</td>\n",
       "    </tr>\n",
       "    <tr>\n",
       "      <th>34</th>\n",
       "      <td>North Dakota</td>\n",
       "      <td>20.4</td>\n",
       "      <td>621</td>\n",
       "    </tr>\n",
       "    <tr>\n",
       "      <th>49</th>\n",
       "      <td>Wisconsin</td>\n",
       "      <td>20.4</td>\n",
       "      <td>649</td>\n",
       "    </tr>\n",
       "    <tr>\n",
       "      <th>43</th>\n",
       "      <td>Texas</td>\n",
       "      <td>20.7</td>\n",
       "      <td>507</td>\n",
       "    </tr>\n",
       "    <tr>\n",
       "      <th>27</th>\n",
       "      <td>Nebraska</td>\n",
       "      <td>20.9</td>\n",
       "      <td>625</td>\n",
       "    </tr>\n",
       "    <tr>\n",
       "      <th>10</th>\n",
       "      <td>Georgia</td>\n",
       "      <td>20.9</td>\n",
       "      <td>515</td>\n",
       "    </tr>\n",
       "    <tr>\n",
       "      <th>13</th>\n",
       "      <td>Illinois</td>\n",
       "      <td>21.2</td>\n",
       "      <td>556</td>\n",
       "    </tr>\n",
       "    <tr>\n",
       "      <th>15</th>\n",
       "      <td>Iowa</td>\n",
       "      <td>21.3</td>\n",
       "      <td>635</td>\n",
       "    </tr>\n",
       "    <tr>\n",
       "      <th>16</th>\n",
       "      <td>Kansas</td>\n",
       "      <td>21.3</td>\n",
       "      <td>628</td>\n",
       "    </tr>\n",
       "    <tr>\n",
       "      <th>37</th>\n",
       "      <td>Oregon</td>\n",
       "      <td>21.5</td>\n",
       "      <td>548</td>\n",
       "    </tr>\n",
       "    <tr>\n",
       "      <th>23</th>\n",
       "      <td>Minnesota</td>\n",
       "      <td>21.5</td>\n",
       "      <td>651</td>\n",
       "    </tr>\n",
       "    <tr>\n",
       "      <th>41</th>\n",
       "      <td>South Dakota</td>\n",
       "      <td>21.5</td>\n",
       "      <td>603</td>\n",
       "    </tr>\n",
       "    <tr>\n",
       "      <th>35</th>\n",
       "      <td>Ohio</td>\n",
       "      <td>21.6</td>\n",
       "      <td>570</td>\n",
       "    </tr>\n",
       "    <tr>\n",
       "      <th>12</th>\n",
       "      <td>Idaho</td>\n",
       "      <td>21.8</td>\n",
       "      <td>493</td>\n",
       "    </tr>\n",
       "    <tr>\n",
       "      <th>47</th>\n",
       "      <td>Washington</td>\n",
       "      <td>21.9</td>\n",
       "      <td>534</td>\n",
       "    </tr>\n",
       "    <tr>\n",
       "      <th>14</th>\n",
       "      <td>Indiana</td>\n",
       "      <td>22.4</td>\n",
       "      <td>532</td>\n",
       "    </tr>\n",
       "    <tr>\n",
       "      <th>4</th>\n",
       "      <td>California</td>\n",
       "      <td>22.7</td>\n",
       "      <td>524</td>\n",
       "    </tr>\n",
       "    <tr>\n",
       "      <th>45</th>\n",
       "      <td>Vermont</td>\n",
       "      <td>23.1</td>\n",
       "      <td>551</td>\n",
       "    </tr>\n",
       "    <tr>\n",
       "      <th>20</th>\n",
       "      <td>Maryland</td>\n",
       "      <td>23.1</td>\n",
       "      <td>52</td>\n",
       "    </tr>\n",
       "    <tr>\n",
       "      <th>39</th>\n",
       "      <td>Rhode Island</td>\n",
       "      <td>23.3</td>\n",
       "      <td>524</td>\n",
       "    </tr>\n",
       "    <tr>\n",
       "      <th>46</th>\n",
       "      <td>Virginia</td>\n",
       "      <td>23.3</td>\n",
       "      <td>541</td>\n",
       "    </tr>\n",
       "    <tr>\n",
       "      <th>7</th>\n",
       "      <td>Delaware</td>\n",
       "      <td>23.4</td>\n",
       "      <td>492</td>\n",
       "    </tr>\n",
       "    <tr>\n",
       "      <th>38</th>\n",
       "      <td>Pennsylvania</td>\n",
       "      <td>23.4</td>\n",
       "      <td>531</td>\n",
       "    </tr>\n",
       "    <tr>\n",
       "      <th>8</th>\n",
       "      <td>District of Columbia</td>\n",
       "      <td>23.5</td>\n",
       "      <td>468</td>\n",
       "    </tr>\n",
       "    <tr>\n",
       "      <th>22</th>\n",
       "      <td>Michigan</td>\n",
       "      <td>23.7</td>\n",
       "      <td>495</td>\n",
       "    </tr>\n",
       "    <tr>\n",
       "      <th>30</th>\n",
       "      <td>New Jersey</td>\n",
       "      <td>23.8</td>\n",
       "      <td>526</td>\n",
       "    </tr>\n",
       "    <tr>\n",
       "      <th>19</th>\n",
       "      <td>Maine</td>\n",
       "      <td>24.0</td>\n",
       "      <td>499</td>\n",
       "    </tr>\n",
       "    <tr>\n",
       "      <th>32</th>\n",
       "      <td>New York</td>\n",
       "      <td>24.0</td>\n",
       "      <td>523</td>\n",
       "    </tr>\n",
       "    <tr>\n",
       "      <th>6</th>\n",
       "      <td>Connecticut</td>\n",
       "      <td>24.6</td>\n",
       "      <td>512</td>\n",
       "    </tr>\n",
       "    <tr>\n",
       "      <th>29</th>\n",
       "      <td>New Hampshire</td>\n",
       "      <td>25.1</td>\n",
       "      <td>520</td>\n",
       "    </tr>\n",
       "    <tr>\n",
       "      <th>21</th>\n",
       "      <td>Massachusetts</td>\n",
       "      <td>25.3</td>\n",
       "      <td>551</td>\n",
       "    </tr>\n",
       "  </tbody>\n",
       "</table>\n",
       "</div>"
      ],
      "text/plain": [
       "                   State  act_Math  sat_Math\n",
       "28                Nevada      18.0       553\n",
       "24           Mississippi      18.1       607\n",
       "0                Alabama      18.4       572\n",
       "40        South Carolina      18.6       521\n",
       "36              Oklahoma      18.8       517\n",
       "18             Louisiana      18.8       586\n",
       "3               Arkansas      19.0       594\n",
       "42             Tennessee      19.2       604\n",
       "11                Hawaii      19.2       541\n",
       "33        North Carolina      19.3       535\n",
       "48         West Virginia      19.4       528\n",
       "31            New Mexico      19.4       561\n",
       "9                Florida      19.4       497\n",
       "17              Kentucky      19.4       616\n",
       "50               Wyoming      19.8       604\n",
       "1                 Alaska      19.8       533\n",
       "2                Arizona      19.8       553\n",
       "25              Missouri      19.9       631\n",
       "44                  Utah      19.9       614\n",
       "26               Montana      20.2       591\n",
       "5               Colorado      20.3       595\n",
       "34          North Dakota      20.4       621\n",
       "49             Wisconsin      20.4       649\n",
       "43                 Texas      20.7       507\n",
       "27              Nebraska      20.9       625\n",
       "10               Georgia      20.9       515\n",
       "13              Illinois      21.2       556\n",
       "15                  Iowa      21.3       635\n",
       "16                Kansas      21.3       628\n",
       "37                Oregon      21.5       548\n",
       "23             Minnesota      21.5       651\n",
       "41          South Dakota      21.5       603\n",
       "35                  Ohio      21.6       570\n",
       "12                 Idaho      21.8       493\n",
       "47            Washington      21.9       534\n",
       "14               Indiana      22.4       532\n",
       "4             California      22.7       524\n",
       "45               Vermont      23.1       551\n",
       "20              Maryland      23.1        52\n",
       "39          Rhode Island      23.3       524\n",
       "46              Virginia      23.3       541\n",
       "7               Delaware      23.4       492\n",
       "38          Pennsylvania      23.4       531\n",
       "8   District of Columbia      23.5       468\n",
       "22              Michigan      23.7       495\n",
       "30            New Jersey      23.8       526\n",
       "19                 Maine      24.0       499\n",
       "32              New York      24.0       523\n",
       "6            Connecticut      24.6       512\n",
       "29         New Hampshire      25.1       520\n",
       "21         Massachusetts      25.3       551"
      ]
     },
     "execution_count": 267,
     "metadata": {},
     "output_type": "execute_result"
    }
   ],
   "source": [
    "merged[['State','act_Math',  'sat_Math']].sort_values('act_Math')"
   ]
  },
  {
   "cell_type": "markdown",
   "metadata": {},
   "source": [
    "##### 30. Suppose we only seek to understand the relationship between SAT and ACT data in 2017. Does it make sense to conduct statistical inference given the data we have? Why?"
   ]
  },
  {
   "cell_type": "code",
   "execution_count": null,
   "metadata": {
    "collapsed": true
   },
   "outputs": [],
   "source": [
    "#Yes it makes sense but might require the assumption that data changes little\n",
    "#between each year.  You may want to lookn at the variance bwteen other years to\n",
    "#detirmine if this is the case"
   ]
  }
 ],
 "metadata": {
  "anaconda-cloud": {},
  "kernelspec": {
   "display_name": "Python 3",
   "language": "python",
   "name": "python3"
  },
  "language_info": {
   "codemirror_mode": {
    "name": "ipython",
    "version": 3
   },
   "file_extension": ".py",
   "mimetype": "text/x-python",
   "name": "python",
   "nbconvert_exporter": "python",
   "pygments_lexer": "ipython3",
   "version": "3.6.3"
  }
 },
 "nbformat": 4,
 "nbformat_minor": 1
}

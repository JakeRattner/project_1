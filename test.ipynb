{
 "cells": [
  {
   "cell_type": "markdown",
   "metadata": {},
   "source": [
    "Data set is taken from here: https://dataverse.harvard.edu/dataset.xhtml?persistentId=hdl:1902.1/12379"
   ]
  },
  {
   "cell_type": "code",
   "execution_count": 1,
   "metadata": {
    "collapsed": true
   },
   "outputs": [],
   "source": [
    "# Import all the libraries used in the notebook\n",
    "import pandas as pd\n",
    "from matplotlib import pyplot as plt\n",
    "import requests\n",
    "import json\n",
    "import matplotlib.pyplot as plt\n",
    "import seaborn as sns\n",
    "from IPython.display import Image\n",
    "from IPython.core.display import HTML \n",
    "from sklearn.cluster import KMeans, k_means\n",
    "from sklearn.metrics import silhouette_score\n",
    "from sklearn.datasets.samples_generator import make_blobs\n",
    "import numpy as np\n",
    "import ipywidgets as widgets\n",
    "import matplotlib.pyplot as plt\n",
    "import matplotlib\n",
    "matplotlib.style.use('ggplot')\n",
    "from sklearn.preprocessing import scale\n",
    "%matplotlib inline\n",
    "import hdbscan\n",
    "from sklearn import metrics\n",
    "from sklearn.cluster import DBSCAN\n",
    "from sklearn.decomposition import PCA\n",
    "from __future__ import print_function\n",
    "from ipywidgets import interact, interactive, fixed, interact_manual\n",
    "import ipywidgets as widgets\n",
    "from pprint import pprint"
   ]
  },
  {
   "cell_type": "code",
   "execution_count": 2,
   "metadata": {
    "collapsed": true
   },
   "outputs": [],
   "source": [
    "# read tab file of voting records (1948 - 2017)\n",
    "df_votes = pd.read_csv('~/Desktop/dataverse_files/UNVotes1-72.tab',sep='\\t')"
   ]
  },
  {
   "cell_type": "code",
   "execution_count": 3,
   "metadata": {
    "collapsed": true
   },
   "outputs": [],
   "source": [
    "# filter df for only voting members\n",
    "df_votes = df_votes[df_votes.member == 1]"
   ]
  },
  {
   "cell_type": "code",
   "execution_count": 4,
   "metadata": {
    "collapsed": true
   },
   "outputs": [],
   "source": [
    "# Dropping country and countryname. Using ccode as country key\n",
    "df_votes_year = df_votes.drop(['Country', 'Countryname'], axis=1) "
   ]
  },
  {
   "cell_type": "code",
   "execution_count": 5,
   "metadata": {},
   "outputs": [
    {
     "data": {
      "text/html": [
       "<div>\n",
       "<style>\n",
       "    .dataframe thead tr:only-child th {\n",
       "        text-align: right;\n",
       "    }\n",
       "\n",
       "    .dataframe thead th {\n",
       "        text-align: left;\n",
       "    }\n",
       "\n",
       "    .dataframe tbody tr th {\n",
       "        vertical-align: top;\n",
       "    }\n",
       "</style>\n",
       "<table border=\"1\" class=\"dataframe\">\n",
       "  <thead>\n",
       "    <tr style=\"text-align: right;\">\n",
       "      <th></th>\n",
       "      <th>rcid</th>\n",
       "      <th>ccode</th>\n",
       "      <th>session</th>\n",
       "      <th>member</th>\n",
       "      <th>vote</th>\n",
       "      <th>year</th>\n",
       "    </tr>\n",
       "  </thead>\n",
       "  <tbody>\n",
       "    <tr>\n",
       "      <th>0</th>\n",
       "      <td>3.0</td>\n",
       "      <td>2</td>\n",
       "      <td>1.0</td>\n",
       "      <td>1.0</td>\n",
       "      <td>1</td>\n",
       "      <td>1946</td>\n",
       "    </tr>\n",
       "    <tr>\n",
       "      <th>1</th>\n",
       "      <td>3.0</td>\n",
       "      <td>20</td>\n",
       "      <td>1.0</td>\n",
       "      <td>1.0</td>\n",
       "      <td>3</td>\n",
       "      <td>1946</td>\n",
       "    </tr>\n",
       "  </tbody>\n",
       "</table>\n",
       "</div>"
      ],
      "text/plain": [
       "   rcid  ccode  session  member  vote  year\n",
       "0   3.0      2      1.0     1.0     1  1946\n",
       "1   3.0     20      1.0     1.0     3  1946"
      ]
     },
     "execution_count": 5,
     "metadata": {},
     "output_type": "execute_result"
    }
   ],
   "source": [
    "# Set a DF to only yes and no votes (0 nd 3)\n",
    "df_votes_year_binary = df_votes_year[(df_votes_year.vote <= 1) | (df_votes_year.vote == 3)]\n",
    "df_votes_year_binary.head(2)"
   ]
  },
  {
   "cell_type": "code",
   "execution_count": 6,
   "metadata": {},
   "outputs": [
    {
     "name": "stderr",
     "output_type": "stream",
     "text": [
      "/Users/jakerattner/anaconda3/lib/python3.6/site-packages/pandas/core/generic.py:3110: SettingWithCopyWarning: \n",
      "A value is trying to be set on a copy of a slice from a DataFrame.\n",
      "Try using .loc[row_indexer,col_indexer] = value instead\n",
      "\n",
      "See the caveats in the documentation: http://pandas.pydata.org/pandas-docs/stable/indexing.html#indexing-view-versus-copy\n",
      "  self[name] = value\n"
     ]
    },
    {
     "data": {
      "text/html": [
       "<div>\n",
       "<style>\n",
       "    .dataframe thead tr:only-child th {\n",
       "        text-align: right;\n",
       "    }\n",
       "\n",
       "    .dataframe thead th {\n",
       "        text-align: left;\n",
       "    }\n",
       "\n",
       "    .dataframe tbody tr th {\n",
       "        vertical-align: top;\n",
       "    }\n",
       "</style>\n",
       "<table border=\"1\" class=\"dataframe\">\n",
       "  <thead>\n",
       "    <tr style=\"text-align: right;\">\n",
       "      <th></th>\n",
       "      <th>rcid</th>\n",
       "      <th>ccode</th>\n",
       "      <th>session</th>\n",
       "      <th>member</th>\n",
       "      <th>vote</th>\n",
       "      <th>year</th>\n",
       "    </tr>\n",
       "  </thead>\n",
       "  <tbody>\n",
       "    <tr>\n",
       "      <th>0</th>\n",
       "      <td>3.0</td>\n",
       "      <td>2</td>\n",
       "      <td>1.0</td>\n",
       "      <td>1.0</td>\n",
       "      <td>1</td>\n",
       "      <td>1946</td>\n",
       "    </tr>\n",
       "    <tr>\n",
       "      <th>1</th>\n",
       "      <td>3.0</td>\n",
       "      <td>20</td>\n",
       "      <td>1.0</td>\n",
       "      <td>1.0</td>\n",
       "      <td>0</td>\n",
       "      <td>1946</td>\n",
       "    </tr>\n",
       "  </tbody>\n",
       "</table>\n",
       "</div>"
      ],
      "text/plain": [
       "   rcid  ccode  session  member  vote  year\n",
       "0   3.0      2      1.0     1.0     1  1946\n",
       "1   3.0     20      1.0     1.0     0  1946"
      ]
     },
     "execution_count": 6,
     "metadata": {},
     "output_type": "execute_result"
    }
   ],
   "source": [
    "# Turn 1 = yes and 3 = no into 0 = no and 1 = yes\n",
    "df_votes_year_binary.vote = df_votes_year_binary.vote.replace(to_replace=3, value=0, inplace=False, limit=None, regex=False, method='pad', axis=None)\n",
    "df_votes_year_binary.head(2)"
   ]
  },
  {
   "cell_type": "code",
   "execution_count": 7,
   "metadata": {
    "collapsed": true
   },
   "outputs": [],
   "source": [
    "# drop session column and set equal to new df\n",
    "df_year_features = df_votes_year_binary.drop(['session'], axis=1)"
   ]
  },
  {
   "cell_type": "code",
   "execution_count": 8,
   "metadata": {
    "collapsed": true
   },
   "outputs": [],
   "source": [
    "# Vote multiplied by res to create a new v_res column that gives the resolution number if \n",
    "# There was a yes vote.  This will be used later to create dummy columns\n",
    "df_year_features['v_res'] = df_year_features['rcid']*df_year_features['vote']"
   ]
  },
  {
   "cell_type": "code",
   "execution_count": 9,
   "metadata": {},
   "outputs": [
    {
     "data": {
      "text/html": [
       "<div>\n",
       "<style>\n",
       "    .dataframe thead tr:only-child th {\n",
       "        text-align: right;\n",
       "    }\n",
       "\n",
       "    .dataframe thead th {\n",
       "        text-align: left;\n",
       "    }\n",
       "\n",
       "    .dataframe tbody tr th {\n",
       "        vertical-align: top;\n",
       "    }\n",
       "</style>\n",
       "<table border=\"1\" class=\"dataframe\">\n",
       "  <thead>\n",
       "    <tr style=\"text-align: right;\">\n",
       "      <th></th>\n",
       "      <th>ccode</th>\n",
       "      <th>Countryname</th>\n",
       "      <th>Country</th>\n",
       "    </tr>\n",
       "  </thead>\n",
       "  <tbody>\n",
       "    <tr>\n",
       "      <th>0</th>\n",
       "      <td>2</td>\n",
       "      <td>United States of America</td>\n",
       "      <td>USA</td>\n",
       "    </tr>\n",
       "    <tr>\n",
       "      <th>1</th>\n",
       "      <td>20</td>\n",
       "      <td>Canada</td>\n",
       "      <td>CAN</td>\n",
       "    </tr>\n",
       "  </tbody>\n",
       "</table>\n",
       "</div>"
      ],
      "text/plain": [
       "   ccode               Countryname Country\n",
       "0      2  United States of America     USA\n",
       "1     20                    Canada     CAN"
      ]
     },
     "execution_count": 9,
     "metadata": {},
     "output_type": "execute_result"
    }
   ],
   "source": [
    "#I'm creating a df that has one record for every UN nation so that it can be merged with our output later\n",
    "df_name_index = pd.DataFrame(df_votes.groupby(['ccode', 'Countryname','Country'])['Countryname'].count())\n",
    "df_name_index['count'] = df_name_index.Countryname\n",
    "df_name_index = df_name_index.drop([ 'Countryname','count'], axis=1)\n",
    "df_name_index.reset_index(inplace=True)\n",
    "df_name_index.head(2)"
   ]
  },
  {
   "cell_type": "markdown",
   "metadata": {},
   "source": [
    "# Create function to create DFs for multiple years"
   ]
  },
  {
   "cell_type": "code",
   "execution_count": 10,
   "metadata": {
    "collapsed": true
   },
   "outputs": [],
   "source": [
    "# This function takes a year as an argument and returns a df with 1s and 0s indicating whether each member country\n",
    "# voted on each resolution proposed in a that year\n",
    "def create_year_df(year):\n",
    "    df_output_year = df_year_features[df_year_features['year'] == year]\n",
    "    df_output_year = pd.concat([df_output_year,pd.get_dummies(df_output_year.v_res, prefix='res_')], axis = 1)\n",
    "    #print(df_output_year)\n",
    "    try:\n",
    "        df_output_year = df_output_year.drop(['year','rcid','member','v_res','vote', 'res__0.0'], axis=1)\n",
    "    except:\n",
    "        pass \n",
    "    df_output_year = df_output_year.set_index('ccode')\n",
    "    df_output_year = df_output_year.groupby('ccode').sum()\n",
    "    \n",
    "    return df_output_year\n",
    "create_year_df(1948);"
   ]
  },
  {
   "cell_type": "code",
   "execution_count": 11,
   "metadata": {
    "collapsed": true
   },
   "outputs": [],
   "source": [
    "# creating dictionary of years and corresponding dataframe names passing aech value from the \n",
    "# groups list into the for loop at the bottom of the cell\n",
    "frames = {}\n",
    "groups = [1946, 1947, 1948, 1949, 1950, 1951, 1952, 1953, 1954, 1955, 1956, 1957, 1958, 1959,  \n",
    "          1960, 1961, 1962, 1963, 1964, 1965, 1966, 1967, 1968, 1969, 1970, 1971, 1972, 1973, 1974,\n",
    "          1975, 1976, 1977, 1978, 1978, 1980, 1981, 1982, 1983, 1984, 1985, 1986, 1986, 1988, 1989,\n",
    "          1990, 1991, 1992, 1993, 1994, 1995, 1996, 1997, 1998, 1999, 2000, 2001, 2002, 2003, 2004,\n",
    "          2005, 2006, 2007, 2008, 2009, 2010, 2011, 2012, 2013, 2014, 2015, 2016, 2017]\n",
    "for grp in groups: \n",
    "    frames[grp] = create_year_df(grp)  "
   ]
  },
  {
   "cell_type": "code",
   "execution_count": 12,
   "metadata": {
    "collapsed": true
   },
   "outputs": [],
   "source": [
    "# read in descr file\n",
    "df_descriptions = pd.read_csv('~/documents/UN-Capstone/Dscription.csv',skipinitialspace=True)"
   ]
  },
  {
   "cell_type": "markdown",
   "metadata": {},
   "source": [
    "## Output function"
   ]
  },
  {
   "cell_type": "code",
   "execution_count": 13,
   "metadata": {
    "scrolled": true
   },
   "outputs": [
    {
     "data": {
      "image/png": "[encoded data removed]",
      "text/plain": [
       "<matplotlib.figure.Figure at 0x10669dbe0>"
      ]
     },
     "metadata": {},
     "output_type": "display_data"
    },
    {
     "name": "stdout",
     "output_type": "stream",
     "text": [
      "None\n",
      "Estimated number of clusters: 2\n",
      "Silhouette Coefficient: 0.413213\n",
      "\n",
      "\n",
      " Cluster 0: 50 \n",
      " ['Canada', 'United Kingdom of Great Britain and Northern Ireland', 'Ireland', 'Netherlands', 'Belgium', 'Luxembourg', 'France', 'Monaco', 'Liechtenstein', 'Switzerland', 'Spain', 'Andorra', 'Portugal', 'Germany', 'Poland', 'Austria', 'Hungary', 'Czech Republic', 'Slovakia', 'Italy', 'San Marino', 'Malta', 'Albania', 'Montenegro', 'The former Yugoslav Republic of Macedonia', 'Croatia', 'Yugoslavia', 'Bosnia and Herzegovina', 'Slovenia', 'Greece', 'Cyprus', 'Bulgaria', 'Republic of Moldova', 'Romania', 'Estonia', 'Latvia', 'Lithuania', 'Ukraine', 'Georgia', 'Finland', 'Sweden', 'Norway', 'Denmark', 'Iceland', 'Turkey', 'Republic of Korea', 'Japan', 'Australia', 'New Zealand', 'Micronesia (Federated States of)']\n",
      "\n",
      "\n",
      " Cluster 1: 127 \n",
      " ['Bahamas', 'Cuba', 'Dominican Republic', 'Jamaica', 'Trinidad and Tobago', 'Barbados', 'Dominica', 'Grenada', 'Saint Lucia', 'Saint Vincent and the Grenadines', 'Antigua and Barbuda', 'Saint Kitts and Nevis', 'Mexico', 'Belize', 'Guatemala', 'Honduras', 'El Salvador', 'Nicaragua', 'Costa Rica', 'Panama', 'Colombia', 'Venezuela, Bolivarian Republic of', 'Guyana', 'Suriname', 'Ecuador', 'Peru', 'Brazil', 'Bolivia (Plurinational State of)', 'Paraguay', 'Chile', 'Argentina', 'Uruguay', 'Belarus', 'Armenia', 'Azerbaijan', 'Cabo Verde', 'Guinea Bissau', 'Equatorial Guinea', 'Gambia (Islamic Republic of the)', 'Mali', 'Senegal', 'Benin', 'Mauritania', 'Niger', \"Côte D'Ivoire\", 'Guinea', 'Burkina Faso', 'Liberia', 'Ghana', 'Togo', 'Cameroon', 'Nigeria', 'Gabon', 'Central African Republic', 'Chad', 'Congo', 'Democratic Republic of the Congo', 'Uganda', 'Kenya', 'United Republic of Tanzania', 'Burundi', 'Djibouti', 'Ethiopia', 'Eritrea', 'Mozambique', 'Zambia', 'Zimbabwe', 'Malawi', 'South Africa', 'Namibia', 'Lesotho', 'Botswana', 'Swaziland', 'Madagascar', 'Comoros', 'Mauritius', 'Morocco', 'Algeria', 'Tunisia', 'Libya', 'Sudan', 'Iran (Islamic Republic of)', 'Iraq', 'Egypt', 'Syrian Arab Republic', 'Lebanon', 'Jordan', 'Saudi Arabia', 'Yemen', 'Kuwait', 'Bahrain', 'Qatar', 'United Arab Emirates', 'Oman', 'Afghanistan', 'Turkmenistan', 'Tajikistan', 'Kyrgyzstan', 'Uzbekistan', 'Kazakhstan', 'China', 'Mongolia', \"Democratic People's Republic of Korea\", 'India', 'Bhutan', 'Pakistan', 'Bangladesh', 'Myanmar', 'Sri Lanka', 'Maldives', 'Nepal', 'Thailand', 'Cambodia', \"Lao People's Democratic Republic\", 'Viet Nam', 'Malaysia', 'Singapore', 'Brunei Darussalam', 'Philippines', 'Indonesia', 'Timor-Leste', 'Papua New Guinea', 'Vanuatu', 'Solomon Islands', 'Kiribati', 'Fiji', 'Samoa']\n",
      "\n",
      "\n",
      " Outliers: 16 \n",
      " ['United States of America', 'Haiti', 'Russian Federation', 'Sao Tome and Principe', 'Sierra Leone', 'Rwanda', 'Somalia', 'Angola', 'Seychelles', 'South Sudan', 'Israel', 'Tuvalu', 'Tonga', 'Nauru', 'Marshall Islands', 'Palau']\n",
      "\n",
      "    rcid     score short  me  nu  di  hr  co  ec\n",
      "0  5407  0.177059   NaN   0   0   1   0   0   0\n",
      "1  5411  0.174943   NaN   0   1   1   0   0   0\n",
      "2  5405  0.173902   NaN   0   0   1   0   0   0\n",
      "3  5410  0.173494   NaN   0   1   0   0   0   0\n",
      "4  5451  0.173316   NaN   0   0   0   1   0   0\n",
      "5  5427  0.172835   NaN   0   1   1   0   0   0\n",
      "6  5450  0.172687   NaN   0   0   0   1   0   0\n",
      "7  5446  0.171751   NaN   0   0   0   1   0   0\n",
      "8  5453  0.171105   NaN   0   0   0   1   0   0\n",
      "9  5454  0.170913   NaN   0   0   0   1   0   0\n"
     ]
    },
    {
     "data": {
      "text/plain": [
       "0    Promotion of multilateralism in the area of disarmament and non-proliferation : resolution / adopted by th...\n",
       "1    Follow-up to nuclear disarmament obligations agreed to at the 1995, 2000 and 2010 Review Conferences of th...\n",
       "2                      No first placement of weapons in outer space : resolution / adopted by the General Assembly\n",
       "3                                           Reducing nuclear danger : resolution / adopted by the General Assembly\n",
       "4    Promotion of equitable geographical distribution in the membership of the human rights treaty bodies : res...\n",
       "5       Convention on the Prohibition of the Use of Nuclear Weapons : resolution / adopted by the General Assembly\n",
       "6                     Human rights and unilateral coercive measures : resolution / adopted by the General Assembly\n",
       "7    A global call for concrete action for the total elimination of racism, racial discrimination, xenophobia a...\n",
       "8                               Human rights and cultural diversity : resolution / adopted by the General Assembly\n",
       "9    Globalization and its impact on the full enjoyment of all human rights : resolution / adopted by the Gener...\n",
       "Name: descr, dtype: object"
      ]
     },
     "execution_count": 13,
     "metadata": {},
     "output_type": "execute_result"
    }
   ],
   "source": [
    "# This function forms the basis of the project's finished product and contrains code for prosessing the \n",
    "# UN vote DFs and; running through HDBSCAN to create lusters, printing the number of clusters, printing\n",
    "# a silhouette score, printing a list of countries in each cluster, running the df through PCA analysis, \n",
    "# outputting a visualization of clusters based on principle components 1 and 2, and listing the resultions\n",
    "# which caused the groupings (top 5 contriubuting the most to vaiance)\n",
    "\n",
    "def output_all(year):\n",
    "    #HDBSCAN:\n",
    "    hdbscn = hdbscan.HDBSCAN(min_cluster_size = 15, min_samples = 10, \n",
    "               gen_min_span_tree = True)\n",
    "    hdbscn.fit(frames.get(year))\n",
    "    hdbscn_labels = hdbscn.labels_\n",
    "    hdbscn_n_clusters_ = len(set(hdbscn_labels)) - (1 if -1 in hdbscn_labels else 0)\n",
    "    \n",
    "    df_output_year = create_year_df(year);\n",
    "    df_output_year['cluster'] = hdbscn.labels_\n",
    "    df_output_year.reset_index(inplace=True)\n",
    "    df_output_year = pd.merge(df_output_year, df_name_index, on='ccode')\n",
    "    \n",
    "    #Create cluster lists\n",
    "    cluster0_list = df_output_year[df_output_year.cluster == 0]['Countryname'].tolist()\n",
    "    cluster1_list = df_output_year[df_output_year.cluster == 1]['Countryname'].tolist()\n",
    "    cluster2_list = df_output_year[df_output_year.cluster == 2]['Countryname'].tolist()\n",
    "    cluster_Outlier_list = df_output_year[df_output_year.cluster == -1]['Countryname'].tolist()\n",
    "\n",
    "    #PCA:\n",
    "    df_PCA = df_output_year.drop(['Countryname','Country'], axis=1)\n",
    "    df_features = df_PCA\n",
    "    X = df_PCA\n",
    "    X = X.set_index('ccode')\n",
    "    pca = PCA()\n",
    "    pca = pca.fit(X)\n",
    "    Z = pca.transform(X)\n",
    "    features_pca = ['PC'+str(i+1) for i in range(pca.n_components_)]\n",
    "    \n",
    "    Z = pd.DataFrame(Z, columns=features_pca)\n",
    "    X.reset_index(inplace=True)\n",
    "    X = X[['ccode','cluster']]\n",
    "    \n",
    "    X = X.join(Z, lsuffix='_caller', rsuffix='_other')\n",
    "    df_PCA = pd.merge(X, df_PCA, on='ccode')\n",
    "    df_PCA = df_PCA[['ccode','cluster_x',\"PC1\",\"PC2\"]] \n",
    "    \n",
    "    # Rolling Out PC1 components:\n",
    "    PCA_abs = abs((pca.components_))[0]\n",
    "    df_features = df_features.set_index(['ccode','cluster'])\n",
    "    t = zip(df_features.columns, PCA_abs)\n",
    "    result_list = list(t)\n",
    "    df_componenets = pd.DataFrame(result_list)\n",
    "    df_componenets.columns = ['rcid', 'score']\n",
    "    df_componenets = df_componenets.sort_values('score',ascending=False)\n",
    "    df_componenets['rcid'] = df_componenets['rcid'].map(lambda x: x.lstrip('res__'))\n",
    "    df_componenets['rcid'] = df_componenets['rcid'].astype(float)\n",
    "  \n",
    "    df_componenets = pd.merge(df_componenets, df_descriptions, on='rcid')\n",
    "    df_pca_desc = df_componenets.descr\n",
    "    df_componenets = df_componenets.drop(['abstain','yes','no','session','date',\n",
    "                                          'importantvote','unres','amend',\n",
    "                                          'para', 'year','Unnamed: 0','descr'], axis=1) #,'me', 'nu','di', 'hr', 'co','ec','short'\n",
    "    \n",
    "    pd.set_option('display.max_colwidth',110)\n",
    "    \n",
    "    #Plot PCA\n",
    "    fig = plt.figure(figsize=(12,8))\n",
    "    ax = fig.gca()\n",
    "    ax.scatter(Z.iloc[:,0], Z.iloc[:,1],\n",
    "                       c=df_PCA.cluster_x)\n",
    "    ax.set_xlabel('principal component 1', fontsize=16)\n",
    "    ax.set_ylabel('principal component 2', fontsize=16)\n",
    "    for tick in ax.xaxis.get_major_ticks():\n",
    "        tick.label.set_fontsize(12) \n",
    "    for tick in ax.yaxis.get_major_ticks():\n",
    "        tick.label.set_fontsize(12) \n",
    "    ax.set_title('PC1 vs PC2\\n', fontsize=20)\n",
    "    print(plt.show())\n",
    "    \n",
    "    # print HDBSCAN RESULTS:\n",
    "    print('Estimated number of clusters: %d' % hdbscn_n_clusters_)\n",
    "    # print('Homogeneity: %0.6f' % metrics.homogeneity_score(frames.get(year), hdbscn_labels))\n",
    "    # print('Completeness: %0.6f' % metrics.completeness_score(y, hdbscn_labels))\n",
    "    print('Silhouette Coefficient: %0.6f' % metrics.silhouette_score(frames.get(year), hdbscn_labels))\n",
    "    \n",
    "    print (\"\\n\\n\",\"Cluster 0:\",len(cluster0_list),\"\\n\",cluster0_list)\n",
    "    print (\"\\n\\n\",\"Cluster 1:\",len(cluster1_list),\"\\n\",cluster1_list)\n",
    "    if len(cluster2_list) > 0:\n",
    "        print (\"\\n\\n\",\"Cluster 2:\",len(cluster2_list),\"\\n\",cluster2_list)\n",
    "    else: \"\"\n",
    "    \n",
    "    print (\"\\n\\n\",\"Outliers:\",len(cluster_Outlier_list),\"\\n\",cluster_Outlier_list)\n",
    "    \n",
    "    print('\\n',df_componenets.head(10))\n",
    "    return df_pca_desc.head(10)\n",
    "    \n",
    "output_all(2015)  "
   ]
  },
  {
   "cell_type": "code",
   "execution_count": 14,
   "metadata": {
    "collapsed": true
   },
   "outputs": [],
   "source": [
    "# When looking at the above output I was able to do this: I noticed that in 1960 a majority of the resolutions\n",
    "# having the greatest weighting from PCA analysis related to resolution related to the Repulic of the Congo.\n",
    "# I can see that the clusters there appears to be a a split along traditional cold war lines.  If I googel Congo\n",
    "# 1960: https://en.wikipedia.org/wiki/Congo_Crisis#United_Nations_escalation_and_the_end_of_the_Katangese_secession\n",
    "# \"Congo Crisis\" comes up on the top.  The page says that there \"August 1960, Central Intelligence Agency (CIA) \n",
    "# agents in the region reported to their agency that \"Congo [is] experiencing [a] classic communist ... takeover\" \n",
    "# and warned that the Congo might follow the same path as Cuba.\". So, not perfect, but the results seem useful."
   ]
  },
  {
   "cell_type": "code",
   "execution_count": 15,
   "metadata": {},
   "outputs": [
    {
     "data": {
      "application/vnd.jupyter.widget-view+json": {
       "model_id": "f635464e3d744485856726aaedaea466",
       "version_major": 2,
       "version_minor": 0
      },
      "text/plain": [
       "A Jupyter Widget"
      ]
     },
     "metadata": {},
     "output_type": "display_data"
    },
    {
     "data": {
      "text/plain": [
       "<function __main__.output_all>"
      ]
     },
     "execution_count": 15,
     "metadata": {},
     "output_type": "execute_result"
    }
   ],
   "source": [
    "interact(output_all, year=widgets.IntSlider(min=1960,max=2017,step=1,value=10))"
   ]
  },
  {
   "cell_type": "code",
   "execution_count": null,
   "metadata": {
    "collapsed": true
   },
   "outputs": [],
   "source": []
  },
  {
   "cell_type": "code",
   "execution_count": null,
   "metadata": {
    "collapsed": true
   },
   "outputs": [],
   "source": []
  },
  {
   "cell_type": "code",
   "execution_count": null,
   "metadata": {
    "collapsed": true
   },
   "outputs": [],
   "source": []
  }
 ],
 "metadata": {
  "kernelspec": {
   "display_name": "Python [default]",
   "language": "python",
   "name": "python3"
  },
  "language_info": {
   "codemirror_mode": {
    "name": "ipython",
    "version": 3
   },
   "file_extension": ".py",
   "mimetype": "text/x-python",
   "name": "python",
   "nbconvert_exporter": "python",
   "pygments_lexer": "ipython3",
   "version": "3.6.3"
  }
 },
 "nbformat": 4,
 "nbformat_minor": 2
}
